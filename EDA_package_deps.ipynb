{
 "cells": [
  {
   "cell_type": "markdown",
   "metadata": {},
   "source": [
    "# (InProgress) Exploratory Data Analysis - Package.json in GitHub repo"
   ]
  },
  {
   "cell_type": "code",
   "execution_count": null,
   "metadata": {},
   "outputs": [],
   "source": []
  },
  {
   "cell_type": "code",
   "execution_count": 762,
   "metadata": {},
   "outputs": [],
   "source": [
    "import pandas as pd\n",
    "import matplotlib.pyplot as plt\n",
    "\n",
    "from ast import literal_eval\n",
    "\n",
    "from collections import OrderedDict \n",
    "from collections import Counter\n",
    "\n"
   ]
  },
  {
   "cell_type": "code",
   "execution_count": 763,
   "metadata": {},
   "outputs": [],
   "source": [
    "%matplotlib inline\n"
   ]
  },
  {
   "cell_type": "markdown",
   "metadata": {},
   "source": [
    "## Load data"
   ]
  },
  {
   "cell_type": "markdown",
   "metadata": {},
   "source": [
    "Let's create a dataframe for \n",
    "1. Data of packages information of GitHub repositories that define at least one of the interested JS Testing framework in its package.json (data/github_package_deps_June_2019.csv)\n",
    "2. Data of GitHub repositories listed in (1) above (data/github_repo_for_package_deps_June_2019.csv)"
   ]
  },
  {
   "cell_type": "code",
   "execution_count": 764,
   "metadata": {},
   "outputs": [],
   "source": [
    "df_dep = pd.read_csv('data/github_package_deps_June_2019.csv')\n",
    "df_repo = pd.read_csv('data/github_repo_for_package_deps_June_2019.csv')"
   ]
  },
  {
   "cell_type": "markdown",
   "metadata": {},
   "source": [
    "Let's clean up the 'df_dep' dataframe first by converting the 'package_dep' column to a list of package names"
   ]
  },
  {
   "cell_type": "code",
   "execution_count": 765,
   "metadata": {},
   "outputs": [],
   "source": [
    "# Convert the 'package_dep' column to a list of string\n",
    "df_dep['package_dep'] = df_dep['package_dep'].apply(lambda x: x.split(','))"
   ]
  },
  {
   "cell_type": "code",
   "execution_count": 766,
   "metadata": {},
   "outputs": [
    {
     "data": {
      "text/html": [
       "<div>\n",
       "<style scoped>\n",
       "    .dataframe tbody tr th:only-of-type {\n",
       "        vertical-align: middle;\n",
       "    }\n",
       "\n",
       "    .dataframe tbody tr th {\n",
       "        vertical-align: top;\n",
       "    }\n",
       "\n",
       "    .dataframe thead th {\n",
       "        text-align: right;\n",
       "    }\n",
       "</style>\n",
       "<table border=\"1\" class=\"dataframe\">\n",
       "  <thead>\n",
       "    <tr style=\"text-align: right;\">\n",
       "      <th></th>\n",
       "      <th>repo_name</th>\n",
       "      <th>package_dep</th>\n",
       "      <th>mocha</th>\n",
       "      <th>jest</th>\n",
       "      <th>jasmine</th>\n",
       "      <th>qunit</th>\n",
       "      <th>funcunit</th>\n",
       "      <th>cypress</th>\n",
       "      <th>puppeteer</th>\n",
       "      <th>chai</th>\n",
       "      <th>sinon</th>\n",
       "    </tr>\n",
       "  </thead>\n",
       "  <tbody>\n",
       "    <tr>\n",
       "      <th>0</th>\n",
       "      <td>0-mb/pg-lb</td>\n",
       "      <td>[pg, mocha]</td>\n",
       "      <td>True</td>\n",
       "      <td>False</td>\n",
       "      <td>False</td>\n",
       "      <td>False</td>\n",
       "      <td>False</td>\n",
       "      <td>False</td>\n",
       "      <td>False</td>\n",
       "      <td>False</td>\n",
       "      <td>False</td>\n",
       "    </tr>\n",
       "    <tr>\n",
       "      <th>1</th>\n",
       "      <td>0000-bigtree/binary-protocol</td>\n",
       "      <td>[bluebird, expect.js, istanbul, jshint, mocha,...</td>\n",
       "      <td>True</td>\n",
       "      <td>False</td>\n",
       "      <td>False</td>\n",
       "      <td>False</td>\n",
       "      <td>False</td>\n",
       "      <td>False</td>\n",
       "      <td>False</td>\n",
       "      <td>False</td>\n",
       "      <td>False</td>\n",
       "    </tr>\n",
       "    <tr>\n",
       "      <th>2</th>\n",
       "      <td>0000000009/selenium-standalone</td>\n",
       "      <td>[async, commander, debug, lodash, minimist, mk...</td>\n",
       "      <td>True</td>\n",
       "      <td>False</td>\n",
       "      <td>False</td>\n",
       "      <td>False</td>\n",
       "      <td>False</td>\n",
       "      <td>False</td>\n",
       "      <td>False</td>\n",
       "      <td>False</td>\n",
       "      <td>False</td>\n",
       "    </tr>\n",
       "    <tr>\n",
       "      <th>3</th>\n",
       "      <td>001szymon/atom</td>\n",
       "      <td>[async, atom-keymap, babel-core, bootstrap, cl...</td>\n",
       "      <td>False</td>\n",
       "      <td>False</td>\n",
       "      <td>True</td>\n",
       "      <td>False</td>\n",
       "      <td>False</td>\n",
       "      <td>False</td>\n",
       "      <td>False</td>\n",
       "      <td>False</td>\n",
       "      <td>False</td>\n",
       "    </tr>\n",
       "    <tr>\n",
       "      <th>4</th>\n",
       "      <td>001szymon/phonegap-app-desktop</td>\n",
       "      <td>[grunt, grunt-cli, grunt-contrib-copy, grunt-c...</td>\n",
       "      <td>False</td>\n",
       "      <td>False</td>\n",
       "      <td>True</td>\n",
       "      <td>False</td>\n",
       "      <td>False</td>\n",
       "      <td>False</td>\n",
       "      <td>False</td>\n",
       "      <td>False</td>\n",
       "      <td>False</td>\n",
       "    </tr>\n",
       "  </tbody>\n",
       "</table>\n",
       "</div>"
      ],
      "text/plain": [
       "                        repo_name  \\\n",
       "0                      0-mb/pg-lb   \n",
       "1    0000-bigtree/binary-protocol   \n",
       "2  0000000009/selenium-standalone   \n",
       "3                  001szymon/atom   \n",
       "4  001szymon/phonegap-app-desktop   \n",
       "\n",
       "                                         package_dep  mocha   jest  jasmine  \\\n",
       "0                                        [pg, mocha]   True  False    False   \n",
       "1  [bluebird, expect.js, istanbul, jshint, mocha,...   True  False    False   \n",
       "2  [async, commander, debug, lodash, minimist, mk...   True  False    False   \n",
       "3  [async, atom-keymap, babel-core, bootstrap, cl...  False  False     True   \n",
       "4  [grunt, grunt-cli, grunt-contrib-copy, grunt-c...  False  False     True   \n",
       "\n",
       "   qunit  funcunit  cypress  puppeteer   chai  sinon  \n",
       "0  False     False    False      False  False  False  \n",
       "1  False     False    False      False  False  False  \n",
       "2  False     False    False      False  False  False  \n",
       "3  False     False    False      False  False  False  \n",
       "4  False     False    False      False  False  False  "
      ]
     },
     "execution_count": 766,
     "metadata": {},
     "output_type": "execute_result"
    }
   ],
   "source": [
    "df_dep.head()"
   ]
  },
  {
   "cell_type": "markdown",
   "metadata": {},
   "source": [
    "Then, clean up the 'df_repo' dataframe by \n",
    "1. Remove unused columns ('node_id') and rows with na\n",
    "2. Convert 'stargazers_count' and 'forks_count' columns to int\n",
    "3. Converting the 'languages' column which contains a string of list to an actual a list\n",
    "4. Convert 'createdAt' and 'updatedAt' columns to a datetime column"
   ]
  },
  {
   "cell_type": "code",
   "execution_count": 767,
   "metadata": {},
   "outputs": [],
   "source": [
    "# Drop unused columns first\n",
    "df_repo = df_repo.drop(columns=['node_id'])\n",
    "\n",
    "# Drop rows with NA\n",
    "df_repo = df_repo.dropna()"
   ]
  },
  {
   "cell_type": "code",
   "execution_count": 768,
   "metadata": {},
   "outputs": [
    {
     "data": {
      "text/plain": [
       "(203444, 9)"
      ]
     },
     "execution_count": 768,
     "metadata": {},
     "output_type": "execute_result"
    }
   ],
   "source": [
    "df_repo.shape"
   ]
  },
  {
   "cell_type": "code",
   "execution_count": 769,
   "metadata": {},
   "outputs": [],
   "source": [
    "# Convert 'stargazers_count' and 'forks_count' columns to int\n",
    "col_names = ['stargazers_count', 'forks_count']\n",
    "df_repo[col_names] = df_repo[col_names].astype(int)"
   ]
  },
  {
   "cell_type": "code",
   "execution_count": 770,
   "metadata": {},
   "outputs": [],
   "source": [
    "# Converting the 'languages' column which contains a string of list to an actual a list\n",
    "df_repo['languages'] = df_repo['languages'].apply(literal_eval)"
   ]
  },
  {
   "cell_type": "code",
   "execution_count": 771,
   "metadata": {},
   "outputs": [],
   "source": [
    "# Additionally, convert 'createdAt' and 'updatedAt' columns to a datetime column\n",
    "cols_datetime = ['createdAt', 'updatedAt']\n",
    "for col_name in cols_datetime:\n",
    "    df_repo[col_name] = pd.to_datetime(df_repo[col_name])"
   ]
  },
  {
   "cell_type": "code",
   "execution_count": 772,
   "metadata": {},
   "outputs": [
    {
     "data": {
      "text/html": [
       "<div>\n",
       "<style scoped>\n",
       "    .dataframe tbody tr th:only-of-type {\n",
       "        vertical-align: middle;\n",
       "    }\n",
       "\n",
       "    .dataframe tbody tr th {\n",
       "        vertical-align: top;\n",
       "    }\n",
       "\n",
       "    .dataframe thead th {\n",
       "        text-align: right;\n",
       "    }\n",
       "</style>\n",
       "<table border=\"1\" class=\"dataframe\">\n",
       "  <thead>\n",
       "    <tr style=\"text-align: right;\">\n",
       "      <th></th>\n",
       "      <th>repo_name</th>\n",
       "      <th>createdAt</th>\n",
       "      <th>updatedAt</th>\n",
       "      <th>stargazers_count</th>\n",
       "      <th>releases_count</th>\n",
       "      <th>issues_count</th>\n",
       "      <th>forks_count</th>\n",
       "      <th>primaryLanguage</th>\n",
       "      <th>languages</th>\n",
       "    </tr>\n",
       "  </thead>\n",
       "  <tbody>\n",
       "    <tr>\n",
       "      <th>0</th>\n",
       "      <td>01alchemist/TurboScript</td>\n",
       "      <td>2016-12-14 12:27:18+00:00</td>\n",
       "      <td>2019-06-24 11:10:25+00:00</td>\n",
       "      <td>472</td>\n",
       "      <td>2</td>\n",
       "      <td>85</td>\n",
       "      <td>32</td>\n",
       "      <td>JavaScript</td>\n",
       "      <td>[TypeScript, JavaScript, HTML, Shell, Batchfil...</td>\n",
       "    </tr>\n",
       "    <tr>\n",
       "      <th>1</th>\n",
       "      <td>0067ED/vue-block</td>\n",
       "      <td>2017-07-03 14:36:54+00:00</td>\n",
       "      <td>2019-06-12 20:07:25+00:00</td>\n",
       "      <td>38</td>\n",
       "      <td>0</td>\n",
       "      <td>1</td>\n",
       "      <td>4</td>\n",
       "      <td>JavaScript</td>\n",
       "      <td>[JavaScript, HTML, Vue]</td>\n",
       "    </tr>\n",
       "    <tr>\n",
       "      <th>2</th>\n",
       "      <td>01alchemist/x-ray.js</td>\n",
       "      <td>2016-04-21 09:06:24+00:00</td>\n",
       "      <td>2019-04-02 20:58:18+00:00</td>\n",
       "      <td>15</td>\n",
       "      <td>0</td>\n",
       "      <td>0</td>\n",
       "      <td>6</td>\n",
       "      <td>JavaScript</td>\n",
       "      <td>[JavaScript, TypeScript, HTML]</td>\n",
       "    </tr>\n",
       "    <tr>\n",
       "      <th>3</th>\n",
       "      <td>007design/gulp-prefix</td>\n",
       "      <td>2014-04-22 20:54:02+00:00</td>\n",
       "      <td>2017-03-05 09:42:21+00:00</td>\n",
       "      <td>7</td>\n",
       "      <td>0</td>\n",
       "      <td>5</td>\n",
       "      <td>4</td>\n",
       "      <td>JavaScript</td>\n",
       "      <td>[JavaScript, HTML]</td>\n",
       "    </tr>\n",
       "    <tr>\n",
       "      <th>4</th>\n",
       "      <td>01alchemist/x-ray-kernel</td>\n",
       "      <td>2016-09-08 12:09:44+00:00</td>\n",
       "      <td>2018-10-18 07:33:47+00:00</td>\n",
       "      <td>5</td>\n",
       "      <td>0</td>\n",
       "      <td>0</td>\n",
       "      <td>5</td>\n",
       "      <td>C++</td>\n",
       "      <td>[C++, Makefile, Batchfile, Shell, TypeScript, ...</td>\n",
       "    </tr>\n",
       "  </tbody>\n",
       "</table>\n",
       "</div>"
      ],
      "text/plain": [
       "                  repo_name                 createdAt  \\\n",
       "0   01alchemist/TurboScript 2016-12-14 12:27:18+00:00   \n",
       "1          0067ED/vue-block 2017-07-03 14:36:54+00:00   \n",
       "2      01alchemist/x-ray.js 2016-04-21 09:06:24+00:00   \n",
       "3     007design/gulp-prefix 2014-04-22 20:54:02+00:00   \n",
       "4  01alchemist/x-ray-kernel 2016-09-08 12:09:44+00:00   \n",
       "\n",
       "                  updatedAt  stargazers_count  releases_count  issues_count  \\\n",
       "0 2019-06-24 11:10:25+00:00               472               2            85   \n",
       "1 2019-06-12 20:07:25+00:00                38               0             1   \n",
       "2 2019-04-02 20:58:18+00:00                15               0             0   \n",
       "3 2017-03-05 09:42:21+00:00                 7               0             5   \n",
       "4 2018-10-18 07:33:47+00:00                 5               0             0   \n",
       "\n",
       "   forks_count primaryLanguage  \\\n",
       "0           32      JavaScript   \n",
       "1            4      JavaScript   \n",
       "2            6      JavaScript   \n",
       "3            4      JavaScript   \n",
       "4            5             C++   \n",
       "\n",
       "                                           languages  \n",
       "0  [TypeScript, JavaScript, HTML, Shell, Batchfil...  \n",
       "1                            [JavaScript, HTML, Vue]  \n",
       "2                     [JavaScript, TypeScript, HTML]  \n",
       "3                                 [JavaScript, HTML]  \n",
       "4  [C++, Makefile, Batchfile, Shell, TypeScript, ...  "
      ]
     },
     "execution_count": 772,
     "metadata": {},
     "output_type": "execute_result"
    }
   ],
   "source": [
    "df_repo.head()"
   ]
  },
  {
   "cell_type": "code",
   "execution_count": 773,
   "metadata": {},
   "outputs": [
    {
     "name": "stdout",
     "output_type": "stream",
     "text": [
      "<class 'pandas.core.frame.DataFrame'>\n",
      "Int64Index: 203444 entries, 0 to 213663\n",
      "Data columns (total 9 columns):\n",
      "repo_name           203444 non-null object\n",
      "createdAt           203444 non-null datetime64[ns, UTC]\n",
      "updatedAt           203444 non-null datetime64[ns, UTC]\n",
      "stargazers_count    203444 non-null int64\n",
      "releases_count      203444 non-null int64\n",
      "issues_count        203444 non-null int64\n",
      "forks_count         203444 non-null int64\n",
      "primaryLanguage     203444 non-null object\n",
      "languages           203444 non-null object\n",
      "dtypes: datetime64[ns, UTC](2), int64(4), object(3)\n",
      "memory usage: 15.5+ MB\n"
     ]
    }
   ],
   "source": [
    "df_repo.info()"
   ]
  },
  {
   "cell_type": "markdown",
   "metadata": {},
   "source": [
    "Now, create a combined dataframe for those with repo information"
   ]
  },
  {
   "cell_type": "code",
   "execution_count": 774,
   "metadata": {},
   "outputs": [],
   "source": [
    "df_combined = df_repo.merge(df_dep, on='repo_name')"
   ]
  },
  {
   "cell_type": "code",
   "execution_count": 775,
   "metadata": {},
   "outputs": [
    {
     "data": {
      "text/html": [
       "<div>\n",
       "<style scoped>\n",
       "    .dataframe tbody tr th:only-of-type {\n",
       "        vertical-align: middle;\n",
       "    }\n",
       "\n",
       "    .dataframe tbody tr th {\n",
       "        vertical-align: top;\n",
       "    }\n",
       "\n",
       "    .dataframe thead th {\n",
       "        text-align: right;\n",
       "    }\n",
       "</style>\n",
       "<table border=\"1\" class=\"dataframe\">\n",
       "  <thead>\n",
       "    <tr style=\"text-align: right;\">\n",
       "      <th></th>\n",
       "      <th>repo_name</th>\n",
       "      <th>createdAt</th>\n",
       "      <th>updatedAt</th>\n",
       "      <th>stargazers_count</th>\n",
       "      <th>releases_count</th>\n",
       "      <th>issues_count</th>\n",
       "      <th>forks_count</th>\n",
       "      <th>primaryLanguage</th>\n",
       "      <th>languages</th>\n",
       "      <th>package_dep</th>\n",
       "      <th>mocha</th>\n",
       "      <th>jest</th>\n",
       "      <th>jasmine</th>\n",
       "      <th>qunit</th>\n",
       "      <th>funcunit</th>\n",
       "      <th>cypress</th>\n",
       "      <th>puppeteer</th>\n",
       "      <th>chai</th>\n",
       "      <th>sinon</th>\n",
       "    </tr>\n",
       "  </thead>\n",
       "  <tbody>\n",
       "    <tr>\n",
       "      <th>0</th>\n",
       "      <td>01alchemist/TurboScript</td>\n",
       "      <td>2016-12-14 12:27:18+00:00</td>\n",
       "      <td>2019-06-24 11:10:25+00:00</td>\n",
       "      <td>472</td>\n",
       "      <td>2</td>\n",
       "      <td>85</td>\n",
       "      <td>32</td>\n",
       "      <td>JavaScript</td>\n",
       "      <td>[TypeScript, JavaScript, HTML, Shell, Batchfil...</td>\n",
       "      <td>[binaryen, @types/debug, @types/fs-extra, @typ...</td>\n",
       "      <td>False</td>\n",
       "      <td>True</td>\n",
       "      <td>False</td>\n",
       "      <td>False</td>\n",
       "      <td>False</td>\n",
       "      <td>False</td>\n",
       "      <td>False</td>\n",
       "      <td>False</td>\n",
       "      <td>False</td>\n",
       "    </tr>\n",
       "    <tr>\n",
       "      <th>1</th>\n",
       "      <td>0067ED/vue-block</td>\n",
       "      <td>2017-07-03 14:36:54+00:00</td>\n",
       "      <td>2019-06-12 20:07:25+00:00</td>\n",
       "      <td>38</td>\n",
       "      <td>0</td>\n",
       "      <td>1</td>\n",
       "      <td>4</td>\n",
       "      <td>JavaScript</td>\n",
       "      <td>[JavaScript, HTML, Vue]</td>\n",
       "      <td>[autoprefixer, babel-core, babel-eslint, babel...</td>\n",
       "      <td>True</td>\n",
       "      <td>False</td>\n",
       "      <td>False</td>\n",
       "      <td>False</td>\n",
       "      <td>False</td>\n",
       "      <td>False</td>\n",
       "      <td>False</td>\n",
       "      <td>True</td>\n",
       "      <td>True</td>\n",
       "    </tr>\n",
       "    <tr>\n",
       "      <th>2</th>\n",
       "      <td>01alchemist/x-ray.js</td>\n",
       "      <td>2016-04-21 09:06:24+00:00</td>\n",
       "      <td>2019-04-02 20:58:18+00:00</td>\n",
       "      <td>15</td>\n",
       "      <td>0</td>\n",
       "      <td>0</td>\n",
       "      <td>6</td>\n",
       "      <td>JavaScript</td>\n",
       "      <td>[JavaScript, TypeScript, HTML]</td>\n",
       "      <td>[xdata, @types/jest, @types/three, bin-loader,...</td>\n",
       "      <td>False</td>\n",
       "      <td>True</td>\n",
       "      <td>False</td>\n",
       "      <td>False</td>\n",
       "      <td>False</td>\n",
       "      <td>False</td>\n",
       "      <td>False</td>\n",
       "      <td>False</td>\n",
       "      <td>False</td>\n",
       "    </tr>\n",
       "    <tr>\n",
       "      <th>3</th>\n",
       "      <td>007design/gulp-prefix</td>\n",
       "      <td>2014-04-22 20:54:02+00:00</td>\n",
       "      <td>2017-03-05 09:42:21+00:00</td>\n",
       "      <td>7</td>\n",
       "      <td>0</td>\n",
       "      <td>5</td>\n",
       "      <td>4</td>\n",
       "      <td>JavaScript</td>\n",
       "      <td>[JavaScript, HTML]</td>\n",
       "      <td>[through2, url, trumpet, concat-stream, url-jo...</td>\n",
       "      <td>False</td>\n",
       "      <td>False</td>\n",
       "      <td>True</td>\n",
       "      <td>False</td>\n",
       "      <td>False</td>\n",
       "      <td>False</td>\n",
       "      <td>False</td>\n",
       "      <td>False</td>\n",
       "      <td>False</td>\n",
       "    </tr>\n",
       "    <tr>\n",
       "      <th>4</th>\n",
       "      <td>01alchemist/x-ray-kernel</td>\n",
       "      <td>2016-09-08 12:09:44+00:00</td>\n",
       "      <td>2018-10-18 07:33:47+00:00</td>\n",
       "      <td>5</td>\n",
       "      <td>0</td>\n",
       "      <td>0</td>\n",
       "      <td>5</td>\n",
       "      <td>C++</td>\n",
       "      <td>[C++, Makefile, Batchfile, Shell, TypeScript, ...</td>\n",
       "      <td>[three, @types/jasmine, concurrently, jasmine-...</td>\n",
       "      <td>False</td>\n",
       "      <td>False</td>\n",
       "      <td>True</td>\n",
       "      <td>False</td>\n",
       "      <td>False</td>\n",
       "      <td>False</td>\n",
       "      <td>False</td>\n",
       "      <td>False</td>\n",
       "      <td>False</td>\n",
       "    </tr>\n",
       "  </tbody>\n",
       "</table>\n",
       "</div>"
      ],
      "text/plain": [
       "                  repo_name                 createdAt  \\\n",
       "0   01alchemist/TurboScript 2016-12-14 12:27:18+00:00   \n",
       "1          0067ED/vue-block 2017-07-03 14:36:54+00:00   \n",
       "2      01alchemist/x-ray.js 2016-04-21 09:06:24+00:00   \n",
       "3     007design/gulp-prefix 2014-04-22 20:54:02+00:00   \n",
       "4  01alchemist/x-ray-kernel 2016-09-08 12:09:44+00:00   \n",
       "\n",
       "                  updatedAt  stargazers_count  releases_count  issues_count  \\\n",
       "0 2019-06-24 11:10:25+00:00               472               2            85   \n",
       "1 2019-06-12 20:07:25+00:00                38               0             1   \n",
       "2 2019-04-02 20:58:18+00:00                15               0             0   \n",
       "3 2017-03-05 09:42:21+00:00                 7               0             5   \n",
       "4 2018-10-18 07:33:47+00:00                 5               0             0   \n",
       "\n",
       "   forks_count primaryLanguage  \\\n",
       "0           32      JavaScript   \n",
       "1            4      JavaScript   \n",
       "2            6      JavaScript   \n",
       "3            4      JavaScript   \n",
       "4            5             C++   \n",
       "\n",
       "                                           languages  \\\n",
       "0  [TypeScript, JavaScript, HTML, Shell, Batchfil...   \n",
       "1                            [JavaScript, HTML, Vue]   \n",
       "2                     [JavaScript, TypeScript, HTML]   \n",
       "3                                 [JavaScript, HTML]   \n",
       "4  [C++, Makefile, Batchfile, Shell, TypeScript, ...   \n",
       "\n",
       "                                         package_dep  mocha   jest  jasmine  \\\n",
       "0  [binaryen, @types/debug, @types/fs-extra, @typ...  False   True    False   \n",
       "1  [autoprefixer, babel-core, babel-eslint, babel...   True  False    False   \n",
       "2  [xdata, @types/jest, @types/three, bin-loader,...  False   True    False   \n",
       "3  [through2, url, trumpet, concat-stream, url-jo...  False  False     True   \n",
       "4  [three, @types/jasmine, concurrently, jasmine-...  False  False     True   \n",
       "\n",
       "   qunit  funcunit  cypress  puppeteer   chai  sinon  \n",
       "0  False     False    False      False  False  False  \n",
       "1  False     False    False      False   True   True  \n",
       "2  False     False    False      False  False  False  \n",
       "3  False     False    False      False  False  False  \n",
       "4  False     False    False      False  False  False  "
      ]
     },
     "execution_count": 775,
     "metadata": {},
     "output_type": "execute_result"
    }
   ],
   "source": [
    "df_combined.head()"
   ]
  },
  {
   "cell_type": "code",
   "execution_count": 776,
   "metadata": {},
   "outputs": [
    {
     "data": {
      "text/html": [
       "<div>\n",
       "<style scoped>\n",
       "    .dataframe tbody tr th:only-of-type {\n",
       "        vertical-align: middle;\n",
       "    }\n",
       "\n",
       "    .dataframe tbody tr th {\n",
       "        vertical-align: top;\n",
       "    }\n",
       "\n",
       "    .dataframe thead th {\n",
       "        text-align: right;\n",
       "    }\n",
       "</style>\n",
       "<table border=\"1\" class=\"dataframe\">\n",
       "  <thead>\n",
       "    <tr style=\"text-align: right;\">\n",
       "      <th></th>\n",
       "      <th>stargazers_count</th>\n",
       "      <th>releases_count</th>\n",
       "      <th>issues_count</th>\n",
       "      <th>forks_count</th>\n",
       "    </tr>\n",
       "  </thead>\n",
       "  <tbody>\n",
       "    <tr>\n",
       "      <th>count</th>\n",
       "      <td>202705.000000</td>\n",
       "      <td>202705.000000</td>\n",
       "      <td>202705.000000</td>\n",
       "      <td>202705.000000</td>\n",
       "    </tr>\n",
       "    <tr>\n",
       "      <th>mean</th>\n",
       "      <td>74.425421</td>\n",
       "      <td>0.756824</td>\n",
       "      <td>11.783059</td>\n",
       "      <td>12.685316</td>\n",
       "    </tr>\n",
       "    <tr>\n",
       "      <th>std</th>\n",
       "      <td>1269.378453</td>\n",
       "      <td>12.487368</td>\n",
       "      <td>158.359947</td>\n",
       "      <td>250.923332</td>\n",
       "    </tr>\n",
       "    <tr>\n",
       "      <th>min</th>\n",
       "      <td>0.000000</td>\n",
       "      <td>-1.000000</td>\n",
       "      <td>0.000000</td>\n",
       "      <td>0.000000</td>\n",
       "    </tr>\n",
       "    <tr>\n",
       "      <th>25%</th>\n",
       "      <td>0.000000</td>\n",
       "      <td>-1.000000</td>\n",
       "      <td>0.000000</td>\n",
       "      <td>0.000000</td>\n",
       "    </tr>\n",
       "    <tr>\n",
       "      <th>50%</th>\n",
       "      <td>0.000000</td>\n",
       "      <td>0.000000</td>\n",
       "      <td>0.000000</td>\n",
       "      <td>0.000000</td>\n",
       "    </tr>\n",
       "    <tr>\n",
       "      <th>75%</th>\n",
       "      <td>2.000000</td>\n",
       "      <td>0.000000</td>\n",
       "      <td>1.000000</td>\n",
       "      <td>1.000000</td>\n",
       "    </tr>\n",
       "    <tr>\n",
       "      <th>max</th>\n",
       "      <td>303554.000000</td>\n",
       "      <td>3467.000000</td>\n",
       "      <td>18589.000000</td>\n",
       "      <td>65869.000000</td>\n",
       "    </tr>\n",
       "  </tbody>\n",
       "</table>\n",
       "</div>"
      ],
      "text/plain": [
       "       stargazers_count  releases_count   issues_count    forks_count\n",
       "count     202705.000000   202705.000000  202705.000000  202705.000000\n",
       "mean          74.425421        0.756824      11.783059      12.685316\n",
       "std         1269.378453       12.487368     158.359947     250.923332\n",
       "min            0.000000       -1.000000       0.000000       0.000000\n",
       "25%            0.000000       -1.000000       0.000000       0.000000\n",
       "50%            0.000000        0.000000       0.000000       0.000000\n",
       "75%            2.000000        0.000000       1.000000       1.000000\n",
       "max       303554.000000     3467.000000   18589.000000   65869.000000"
      ]
     },
     "execution_count": 776,
     "metadata": {},
     "output_type": "execute_result"
    }
   ],
   "source": [
    "df_combined.describe()"
   ]
  },
  {
   "cell_type": "markdown",
   "metadata": {},
   "source": [
    "Let's take a look at a ratio of each JS Testing Framework"
   ]
  },
  {
   "cell_type": "code",
   "execution_count": 777,
   "metadata": {},
   "outputs": [],
   "source": [
    "cols_testing_fw = [\n",
    "    'qunit',\n",
    "    'mocha',\n",
    "    'jest',\n",
    "    'jasmine',\n",
    "    'funcunit',        \n",
    "    'puppeteer',\n",
    "    'cypress',\n",
    "    'chai',\n",
    "    'sinon'\n",
    "]\n",
    "\n",
    "df_num_fw = df_combined[cols_testing_fw].sum().sort_values(ascending=False)"
   ]
  },
  {
   "cell_type": "code",
   "execution_count": 778,
   "metadata": {},
   "outputs": [
    {
     "data": {
      "text/plain": [
       "mocha        124375\n",
       "chai          64033\n",
       "jasmine       49151\n",
       "sinon         33064\n",
       "qunit         21629\n",
       "jest          14568\n",
       "puppeteer       706\n",
       "cypress         242\n",
       "funcunit         22\n",
       "dtype: int64"
      ]
     },
     "execution_count": 778,
     "metadata": {},
     "output_type": "execute_result"
    }
   ],
   "source": [
    "df_num_fw"
   ]
  },
  {
   "cell_type": "code",
   "execution_count": 779,
   "metadata": {},
   "outputs": [
    {
     "data": {
      "text/plain": [
       "mocha        40.409045\n",
       "chai         20.804120\n",
       "jasmine      15.969005\n",
       "sinon        10.742389\n",
       "qunit         7.027194\n",
       "jest          4.733097\n",
       "puppeteer     0.229377\n",
       "cypress       0.078625\n",
       "funcunit      0.007148\n",
       "dtype: float64"
      ]
     },
     "execution_count": 779,
     "metadata": {},
     "output_type": "execute_result"
    }
   ],
   "source": [
    "(df_num_fw / df_num_fw.sum()) * 100"
   ]
  },
  {
   "cell_type": "code",
   "execution_count": 780,
   "metadata": {},
   "outputs": [
    {
     "data": {
      "image/png": "[encoded data removed]",
      "text/plain": [
       "<Figure size 432x288 with 1 Axes>"
      ]
     },
     "metadata": {
      "needs_background": "light"
     },
     "output_type": "display_data"
    }
   ],
   "source": [
    "df_num_fw.plot.barh();\n",
    "plt.gca().invert_yaxis()\n",
    "plt.title('Number of repos that specify JS Testing Framework in package.json');"
   ]
  },
  {
   "cell_type": "markdown",
   "metadata": {},
   "source": [
    "## Exploratory Data Analysis"
   ]
  },
  {
   "cell_type": "markdown",
   "metadata": {},
   "source": [
    "## When did those github repos created?"
   ]
  },
  {
   "cell_type": "code",
   "execution_count": 781,
   "metadata": {},
   "outputs": [
    {
     "name": "stderr",
     "output_type": "stream",
     "text": [
      "/Users/nongnoochr/anaconda3/lib/python3.6/site-packages/pandas/core/arrays/datetimes.py:1172: UserWarning: Converting to PeriodArray/Index representation will drop timezone information.\n",
      "  \"will drop timezone information.\", UserWarning)\n"
     ]
    },
    {
     "data": {
      "image/png": "[encoded data removed]",
      "text/plain": [
       "<Figure size 432x288 with 1 Axes>"
      ]
     },
     "metadata": {
      "needs_background": "light"
     },
     "output_type": "display_data"
    }
   ],
   "source": [
    "df_combined.groupby(pd.Grouper(key='createdAt', freq='W'))['repo_name'].count().plot();\n"
   ]
  },
  {
   "cell_type": "markdown",
   "metadata": {},
   "source": [
    "What is that spike in 2015! Let's take a look at data in that period to find out what is going on."
   ]
  },
  {
   "cell_type": "code",
   "execution_count": 782,
   "metadata": {},
   "outputs": [],
   "source": [
    "# df_combined = df_combined[df_combined['stargazers_count'] > 5]\n",
    "start_date = '07-01-2015'\n",
    "end_date = '11-01-2015'\n",
    "df_2015_suspect = df_combined[(df_combined['createdAt'] >= start_date) & ((df_combined['createdAt'] < end_date))]\n"
   ]
  },
  {
   "cell_type": "code",
   "execution_count": 783,
   "metadata": {},
   "outputs": [
    {
     "data": {
      "text/plain": [
       "createdAt\n",
       "2015-07-05 00:00:00+00:00     835\n",
       "2015-07-12 00:00:00+00:00    1504\n",
       "2015-07-19 00:00:00+00:00    2122\n",
       "2015-07-26 00:00:00+00:00    2457\n",
       "2015-08-02 00:00:00+00:00    2577\n",
       "2015-08-09 00:00:00+00:00    2668\n",
       "2015-08-16 00:00:00+00:00    2802\n",
       "2015-08-23 00:00:00+00:00    3171\n",
       "2015-08-30 00:00:00+00:00    3233\n",
       "2015-09-06 00:00:00+00:00    3340\n",
       "2015-09-13 00:00:00+00:00    3437\n",
       "2015-09-20 00:00:00+00:00    4295\n",
       "2015-09-27 00:00:00+00:00    4414\n",
       "2015-10-04 00:00:00+00:00    2953\n",
       "2015-10-11 00:00:00+00:00    1151\n",
       "2015-10-18 00:00:00+00:00    1171\n",
       "2015-10-25 00:00:00+00:00    1158\n",
       "2015-11-01 00:00:00+00:00    1102\n",
       "Freq: W-SUN, Name: repo_name, dtype: int64"
      ]
     },
     "execution_count": 783,
     "metadata": {},
     "output_type": "execute_result"
    }
   ],
   "source": [
    "df_2015_suspect.groupby(pd.Grouper(key='createdAt', freq='W'))['repo_name'].count()"
   ]
  },
  {
   "cell_type": "markdown",
   "metadata": {},
   "source": [
    "Looks like some thing is going on between a week of 2015-07-19 to 2015-10-11. Let's zoom into this datarange"
   ]
  },
  {
   "cell_type": "code",
   "execution_count": 784,
   "metadata": {},
   "outputs": [
    {
     "name": "stderr",
     "output_type": "stream",
     "text": [
      "/Users/nongnoochr/anaconda3/lib/python3.6/site-packages/ipykernel_launcher.py:1: UserWarning: Boolean Series key will be reindexed to match DataFrame index.\n",
      "  \"\"\"Entry point for launching an IPython kernel.\n"
     ]
    }
   ],
   "source": [
    "df_2015_suspect = df_2015_suspect[(df_2015_suspect['createdAt'] >= '07-15-2015') & ((df_combined['createdAt'] < '10-15-2015'))]\n"
   ]
  },
  {
   "cell_type": "code",
   "execution_count": 785,
   "metadata": {},
   "outputs": [
    {
     "data": {
      "text/plain": [
       "(38648, 19)"
      ]
     },
     "execution_count": 785,
     "metadata": {},
     "output_type": "execute_result"
    }
   ],
   "source": [
    "df_2015_suspect.shape"
   ]
  },
  {
   "cell_type": "code",
   "execution_count": 786,
   "metadata": {},
   "outputs": [
    {
     "data": {
      "text/html": [
       "<div>\n",
       "<style scoped>\n",
       "    .dataframe tbody tr th:only-of-type {\n",
       "        vertical-align: middle;\n",
       "    }\n",
       "\n",
       "    .dataframe tbody tr th {\n",
       "        vertical-align: top;\n",
       "    }\n",
       "\n",
       "    .dataframe thead th {\n",
       "        text-align: right;\n",
       "    }\n",
       "</style>\n",
       "<table border=\"1\" class=\"dataframe\">\n",
       "  <thead>\n",
       "    <tr style=\"text-align: right;\">\n",
       "      <th></th>\n",
       "      <th>stargazers_count</th>\n",
       "      <th>releases_count</th>\n",
       "      <th>issues_count</th>\n",
       "      <th>forks_count</th>\n",
       "    </tr>\n",
       "  </thead>\n",
       "  <tbody>\n",
       "    <tr>\n",
       "      <th>count</th>\n",
       "      <td>38648.000000</td>\n",
       "      <td>38648.000000</td>\n",
       "      <td>38648.000000</td>\n",
       "      <td>38648.000000</td>\n",
       "    </tr>\n",
       "    <tr>\n",
       "      <th>mean</th>\n",
       "      <td>23.014697</td>\n",
       "      <td>-0.314324</td>\n",
       "      <td>3.865194</td>\n",
       "      <td>3.650331</td>\n",
       "    </tr>\n",
       "    <tr>\n",
       "      <th>std</th>\n",
       "      <td>538.393438</td>\n",
       "      <td>6.592202</td>\n",
       "      <td>78.798977</td>\n",
       "      <td>81.670859</td>\n",
       "    </tr>\n",
       "    <tr>\n",
       "      <th>min</th>\n",
       "      <td>0.000000</td>\n",
       "      <td>-1.000000</td>\n",
       "      <td>0.000000</td>\n",
       "      <td>0.000000</td>\n",
       "    </tr>\n",
       "    <tr>\n",
       "      <th>25%</th>\n",
       "      <td>0.000000</td>\n",
       "      <td>-1.000000</td>\n",
       "      <td>0.000000</td>\n",
       "      <td>0.000000</td>\n",
       "    </tr>\n",
       "    <tr>\n",
       "      <th>50%</th>\n",
       "      <td>0.000000</td>\n",
       "      <td>-1.000000</td>\n",
       "      <td>0.000000</td>\n",
       "      <td>0.000000</td>\n",
       "    </tr>\n",
       "    <tr>\n",
       "      <th>75%</th>\n",
       "      <td>0.000000</td>\n",
       "      <td>0.000000</td>\n",
       "      <td>0.000000</td>\n",
       "      <td>0.000000</td>\n",
       "    </tr>\n",
       "    <tr>\n",
       "      <th>max</th>\n",
       "      <td>78895.000000</td>\n",
       "      <td>968.000000</td>\n",
       "      <td>8947.000000</td>\n",
       "      <td>10982.000000</td>\n",
       "    </tr>\n",
       "  </tbody>\n",
       "</table>\n",
       "</div>"
      ],
      "text/plain": [
       "       stargazers_count  releases_count  issues_count   forks_count\n",
       "count      38648.000000    38648.000000  38648.000000  38648.000000\n",
       "mean          23.014697       -0.314324      3.865194      3.650331\n",
       "std          538.393438        6.592202     78.798977     81.670859\n",
       "min            0.000000       -1.000000      0.000000      0.000000\n",
       "25%            0.000000       -1.000000      0.000000      0.000000\n",
       "50%            0.000000       -1.000000      0.000000      0.000000\n",
       "75%            0.000000        0.000000      0.000000      0.000000\n",
       "max        78895.000000      968.000000   8947.000000  10982.000000"
      ]
     },
     "execution_count": 786,
     "metadata": {},
     "output_type": "execute_result"
    }
   ],
   "source": [
    "df_2015_suspect.describe()"
   ]
  },
  {
   "cell_type": "markdown",
   "metadata": {},
   "source": [
    "More than half of the data in this range have **releases_count == -1**! (To be precise, around 70% of repos created during this time range have releases_count == -1. See the code cell below)\n",
    "\n",
    "I took a look at a few of those repos and all of them are **forked repos!** \n",
    "Something might have happened during that time but I could not find any solid incidense or events that might have introduced this behavior online."
   ]
  },
  {
   "cell_type": "code",
   "execution_count": 787,
   "metadata": {},
   "outputs": [
    {
     "data": {
      "text/plain": [
       "26913"
      ]
     },
     "execution_count": 787,
     "metadata": {},
     "output_type": "execute_result"
    }
   ],
   "source": [
    "# Number of repos with releases_count == -1 during the suspect period\n",
    "sum(df_2015_suspect['releases_count'] < 0)"
   ]
  },
  {
   "cell_type": "code",
   "execution_count": 788,
   "metadata": {},
   "outputs": [
    {
     "data": {
      "text/plain": [
       "0.6963620368453737"
      ]
     },
     "execution_count": 788,
     "metadata": {},
     "output_type": "execute_result"
    }
   ],
   "source": [
    "# Ration of repos with releases_count == -1 during the suspect period\n",
    "sum(df_2015_suspect['releases_count'] < 0)/df_2015_suspect.shape[0]"
   ]
  },
  {
   "cell_type": "markdown",
   "metadata": {},
   "source": [
    "Since the forked repos will not give us much insights, we will drop repos with where \"releases_count == -1\" from the original combined dataset and inspect the createdOn of the remain repos"
   ]
  },
  {
   "cell_type": "code",
   "execution_count": 789,
   "metadata": {},
   "outputs": [],
   "source": [
    "df_combined_clean = df_combined[df_combined['releases_count'] > 0]"
   ]
  },
  {
   "cell_type": "markdown",
   "metadata": {},
   "source": [
    "After droping those repos, we are left with only 19863 repos which is **only around 10%** of the original dataset!"
   ]
  },
  {
   "cell_type": "code",
   "execution_count": 790,
   "metadata": {},
   "outputs": [
    {
     "data": {
      "text/plain": [
       "(19863, 19)"
      ]
     },
     "execution_count": 790,
     "metadata": {},
     "output_type": "execute_result"
    }
   ],
   "source": [
    "df_combined_clean.shape"
   ]
  },
  {
   "cell_type": "code",
   "execution_count": 791,
   "metadata": {},
   "outputs": [
    {
     "data": {
      "text/plain": [
       "(202705, 19)"
      ]
     },
     "execution_count": 791,
     "metadata": {},
     "output_type": "execute_result"
    }
   ],
   "source": [
    "df_combined.shape"
   ]
  },
  {
   "cell_type": "code",
   "execution_count": 792,
   "metadata": {},
   "outputs": [
    {
     "data": {
      "text/plain": [
       "0.09798968945018623"
      ]
     },
     "execution_count": 792,
     "metadata": {},
     "output_type": "execute_result"
    }
   ],
   "source": [
    "df_combined_clean.shape[0] / df_combined.shape[0]"
   ]
  },
  {
   "cell_type": "markdown",
   "metadata": {},
   "source": [
    "Let's plot a line chart for the createdAt data again. \n",
    "\n",
    "Now we get a smoother plot **EXCEPT** that there is a big drop of a number of projects around the end of 2017."
   ]
  },
  {
   "cell_type": "code",
   "execution_count": 793,
   "metadata": {},
   "outputs": [
    {
     "name": "stderr",
     "output_type": "stream",
     "text": [
      "/Users/nongnoochr/anaconda3/lib/python3.6/site-packages/pandas/core/arrays/datetimes.py:1172: UserWarning: Converting to PeriodArray/Index representation will drop timezone information.\n",
      "  \"will drop timezone information.\", UserWarning)\n"
     ]
    },
    {
     "data": {
      "image/png": "[encoded data removed]",
      "text/plain": [
       "<Figure size 432x288 with 1 Axes>"
      ]
     },
     "metadata": {
      "needs_background": "light"
     },
     "output_type": "display_data"
    }
   ],
   "source": [
    "df_combined_clean.groupby(pd.Grouper(key='createdAt', freq='W'))['repo_name'].count().plot();\n"
   ]
  },
  {
   "cell_type": "markdown",
   "metadata": {},
   "source": [
    "However, if we look at the updatedAt data, most of those repos have recently been updated in 2019.\n",
    "\n",
    "Is GitHub's recent annoucement in 2019 to get [unlimited free private repos](https://techcrunch.com/2019/01/07/github-free-users-now-get-unlimited-private-repositories/) contribute to a drop of a number of public repos created recently? (I even moved a few of my repos to private after this new year resolution was rolled out)\n",
    "\n",
    "Nevertheless, since most of the remaining repos are active (which is a good thing for our analysis) and we have a good number of repos with a varity of testing frameworks to analyze, I will proceed with this data."
   ]
  },
  {
   "cell_type": "code",
   "execution_count": 794,
   "metadata": {},
   "outputs": [
    {
     "name": "stderr",
     "output_type": "stream",
     "text": [
      "/Users/nongnoochr/anaconda3/lib/python3.6/site-packages/pandas/core/arrays/datetimes.py:1172: UserWarning: Converting to PeriodArray/Index representation will drop timezone information.\n",
      "  \"will drop timezone information.\", UserWarning)\n"
     ]
    },
    {
     "data": {
      "image/png": "[encoded data removed]",
      "text/plain": [
       "<Figure size 432x288 with 1 Axes>"
      ]
     },
     "metadata": {
      "needs_background": "light"
     },
     "output_type": "display_data"
    }
   ],
   "source": [
    "# Inspect the updatedAt data\n",
    "df_updatedAt = df_combined_clean.groupby(pd.Grouper(key='updatedAt', freq='W'))['repo_name'].count()\n",
    "df_updatedAt.plot();"
   ]
  },
  {
   "cell_type": "markdown",
   "metadata": {},
   "source": [
    "Let's zoom into updatedAt data > '01-01-2019'. We can see that most repos in this dataset have recently been updated\n"
   ]
  },
  {
   "cell_type": "code",
   "execution_count": 795,
   "metadata": {},
   "outputs": [
    {
     "data": {
      "image/png": "[encoded data removed]",
      "text/plain": [
       "<Figure size 432x288 with 1 Axes>"
      ]
     },
     "metadata": {
      "needs_background": "light"
     },
     "output_type": "display_data"
    }
   ],
   "source": [
    "df_updatedAt[df_updatedAt.index > '01-01-2019'].plot();"
   ]
  },
  {
   "cell_type": "code",
   "execution_count": 796,
   "metadata": {},
   "outputs": [
    {
     "data": {
      "text/plain": [
       "updatedAt\n",
       "2019-01-06 00:00:00+00:00      98\n",
       "2019-01-13 00:00:00+00:00     105\n",
       "2019-01-20 00:00:00+00:00     137\n",
       "2019-01-27 00:00:00+00:00     119\n",
       "2019-02-03 00:00:00+00:00     117\n",
       "2019-02-10 00:00:00+00:00     123\n",
       "2019-02-17 00:00:00+00:00     146\n",
       "2019-02-24 00:00:00+00:00     153\n",
       "2019-03-03 00:00:00+00:00     130\n",
       "2019-03-10 00:00:00+00:00     146\n",
       "2019-03-17 00:00:00+00:00     167\n",
       "2019-03-24 00:00:00+00:00     155\n",
       "2019-03-31 00:00:00+00:00     169\n",
       "2019-04-07 00:00:00+00:00     175\n",
       "2019-04-14 00:00:00+00:00     202\n",
       "2019-04-21 00:00:00+00:00     313\n",
       "2019-04-28 00:00:00+00:00     266\n",
       "2019-05-05 00:00:00+00:00     247\n",
       "2019-05-12 00:00:00+00:00     275\n",
       "2019-05-19 00:00:00+00:00     315\n",
       "2019-05-26 00:00:00+00:00     386\n",
       "2019-06-02 00:00:00+00:00     494\n",
       "2019-06-09 00:00:00+00:00     588\n",
       "2019-06-16 00:00:00+00:00     821\n",
       "2019-06-23 00:00:00+00:00    1120\n",
       "2019-06-30 00:00:00+00:00    3515\n",
       "Freq: W-SUN, Name: repo_name, dtype: int64"
      ]
     },
     "execution_count": 796,
     "metadata": {},
     "output_type": "execute_result"
    }
   ],
   "source": [
    "df_updatedAt[df_updatedAt.index > '01-01-2019']"
   ]
  },
  {
   "cell_type": "markdown",
   "metadata": {},
   "source": [
    "To reflect the current user behavior, let's analyze only repos that have been updated in the past one year (From June 2018 - now which is late June 29th 2019)"
   ]
  },
  {
   "cell_type": "markdown",
   "metadata": {},
   "source": [
    "Now, let's take a look at how many of those repos use each of the interested JS Testing Framework"
   ]
  },
  {
   "cell_type": "code",
   "execution_count": 797,
   "metadata": {},
   "outputs": [],
   "source": [
    "df_combined_final = df_combined_clean[(df_combined_clean['updatedAt'] >= '06-01-2018')]\n"
   ]
  },
  {
   "cell_type": "code",
   "execution_count": 798,
   "metadata": {},
   "outputs": [
    {
     "data": {
      "text/plain": [
       "(12815, 19)"
      ]
     },
     "execution_count": 798,
     "metadata": {},
     "output_type": "execute_result"
    }
   ],
   "source": [
    "df_combined_final.shape"
   ]
  },
  {
   "cell_type": "code",
   "execution_count": 799,
   "metadata": {},
   "outputs": [
    {
     "data": {
      "text/html": [
       "<div>\n",
       "<style scoped>\n",
       "    .dataframe tbody tr th:only-of-type {\n",
       "        vertical-align: middle;\n",
       "    }\n",
       "\n",
       "    .dataframe tbody tr th {\n",
       "        vertical-align: top;\n",
       "    }\n",
       "\n",
       "    .dataframe thead th {\n",
       "        text-align: right;\n",
       "    }\n",
       "</style>\n",
       "<table border=\"1\" class=\"dataframe\">\n",
       "  <thead>\n",
       "    <tr style=\"text-align: right;\">\n",
       "      <th></th>\n",
       "      <th>stargazers_count</th>\n",
       "      <th>releases_count</th>\n",
       "      <th>issues_count</th>\n",
       "      <th>forks_count</th>\n",
       "    </tr>\n",
       "  </thead>\n",
       "  <tbody>\n",
       "    <tr>\n",
       "      <th>count</th>\n",
       "      <td>12815.000000</td>\n",
       "      <td>12815.000000</td>\n",
       "      <td>12815.000000</td>\n",
       "      <td>12815.000000</td>\n",
       "    </tr>\n",
       "    <tr>\n",
       "      <th>mean</th>\n",
       "      <td>579.800000</td>\n",
       "      <td>14.786734</td>\n",
       "      <td>114.933437</td>\n",
       "      <td>99.854155</td>\n",
       "    </tr>\n",
       "    <tr>\n",
       "      <th>std</th>\n",
       "      <td>3354.380875</td>\n",
       "      <td>47.099407</td>\n",
       "      <td>562.726475</td>\n",
       "      <td>820.901407</td>\n",
       "    </tr>\n",
       "    <tr>\n",
       "      <th>min</th>\n",
       "      <td>0.000000</td>\n",
       "      <td>1.000000</td>\n",
       "      <td>0.000000</td>\n",
       "      <td>0.000000</td>\n",
       "    </tr>\n",
       "    <tr>\n",
       "      <th>25%</th>\n",
       "      <td>5.000000</td>\n",
       "      <td>2.000000</td>\n",
       "      <td>2.000000</td>\n",
       "      <td>1.000000</td>\n",
       "    </tr>\n",
       "    <tr>\n",
       "      <th>50%</th>\n",
       "      <td>24.000000</td>\n",
       "      <td>6.000000</td>\n",
       "      <td>12.000000</td>\n",
       "      <td>7.000000</td>\n",
       "    </tr>\n",
       "    <tr>\n",
       "      <th>75%</th>\n",
       "      <td>146.000000</td>\n",
       "      <td>15.000000</td>\n",
       "      <td>51.500000</td>\n",
       "      <td>33.000000</td>\n",
       "    </tr>\n",
       "    <tr>\n",
       "      <th>max</th>\n",
       "      <td>142451.000000</td>\n",
       "      <td>3467.000000</td>\n",
       "      <td>18589.000000</td>\n",
       "      <td>65869.000000</td>\n",
       "    </tr>\n",
       "  </tbody>\n",
       "</table>\n",
       "</div>"
      ],
      "text/plain": [
       "       stargazers_count  releases_count  issues_count   forks_count\n",
       "count      12815.000000    12815.000000  12815.000000  12815.000000\n",
       "mean         579.800000       14.786734    114.933437     99.854155\n",
       "std         3354.380875       47.099407    562.726475    820.901407\n",
       "min            0.000000        1.000000      0.000000      0.000000\n",
       "25%            5.000000        2.000000      2.000000      1.000000\n",
       "50%           24.000000        6.000000     12.000000      7.000000\n",
       "75%          146.000000       15.000000     51.500000     33.000000\n",
       "max       142451.000000     3467.000000  18589.000000  65869.000000"
      ]
     },
     "execution_count": 799,
     "metadata": {},
     "output_type": "execute_result"
    }
   ],
   "source": [
    "df_combined_final.describe()"
   ]
  },
  {
   "cell_type": "markdown",
   "metadata": {},
   "source": [
    "Let's also look at a distribution of each JS Testing Framework of this dataset"
   ]
  },
  {
   "cell_type": "code",
   "execution_count": 800,
   "metadata": {},
   "outputs": [],
   "source": [
    "cols_testing_fw = [\n",
    "    'qunit',\n",
    "    'mocha',\n",
    "    'jest',\n",
    "    'jasmine',\n",
    "    'funcunit',        \n",
    "    'puppeteer',\n",
    "    'cypress',\n",
    "    'chai',\n",
    "    'sinon'\n",
    "]\n",
    "\n",
    "df_num_fw = df_combined_final[cols_testing_fw].sum().sort_values(ascending=False)"
   ]
  },
  {
   "cell_type": "code",
   "execution_count": 801,
   "metadata": {},
   "outputs": [
    {
     "data": {
      "text/plain": [
       "mocha        7687\n",
       "chai         4525\n",
       "sinon        2572\n",
       "jasmine      2247\n",
       "jest         2131\n",
       "qunit         894\n",
       "puppeteer     203\n",
       "cypress        81\n",
       "funcunit        1\n",
       "dtype: int64"
      ]
     },
     "execution_count": 801,
     "metadata": {},
     "output_type": "execute_result"
    }
   ],
   "source": [
    "df_num_fw"
   ]
  },
  {
   "cell_type": "code",
   "execution_count": 802,
   "metadata": {},
   "outputs": [
    {
     "data": {
      "image/png": "[encoded data removed]",
      "text/plain": [
       "<Figure size 432x288 with 1 Axes>"
      ]
     },
     "metadata": {
      "needs_background": "light"
     },
     "output_type": "display_data"
    }
   ],
   "source": [
    "df_num_fw.plot.barh();\n",
    "plt.gca().invert_yaxis()\n",
    "plt.title('Number of repos that specify JS Testing Framework in package.json');"
   ]
  },
  {
   "cell_type": "markdown",
   "metadata": {},
   "source": [
    "Let's find a ratio of a number of repositories that use each JS Testing Framework/Lib. \n",
    "\n",
    "Note that it is possible that the same repo list multiple frameworks in package.json, e.g. It is common to see mocha+chai in the same package.json. sinon is a mocking framework that can use with any testing framework, etc. "
   ]
  },
  {
   "cell_type": "code",
   "execution_count": 803,
   "metadata": {},
   "outputs": [
    {
     "data": {
      "text/plain": [
       "mocha        59.984393\n",
       "chai         35.310183\n",
       "sinon        20.070230\n",
       "jasmine      17.534140\n",
       "jest         16.628950\n",
       "qunit         6.976200\n",
       "puppeteer     1.584081\n",
       "cypress       0.632072\n",
       "funcunit      0.007803\n",
       "dtype: float64"
      ]
     },
     "execution_count": 803,
     "metadata": {},
     "output_type": "execute_result"
    }
   ],
   "source": [
    "(df_num_fw / df_combined_final.shape[0]) * 100"
   ]
  },
  {
   "cell_type": "markdown",
   "metadata": {},
   "source": [
    "Before we move on with the analysis, let's save this final dataset so that we don't need to repeat the steps above again"
   ]
  },
  {
   "cell_type": "code",
   "execution_count": 804,
   "metadata": {},
   "outputs": [],
   "source": [
    "df_combined_final.to_csv('data/github_package_deps_June_2018_to_June_2019.csv', index=False)"
   ]
  },
  {
   "cell_type": "markdown",
   "metadata": {},
   "source": [
    "## What are the top github repos that uses each framework and what are common packages installed with it?"
   ]
  },
  {
   "cell_type": "markdown",
   "metadata": {},
   "source": [
    "Create a dataframe containing repos that use each framework"
   ]
  },
  {
   "cell_type": "code",
   "execution_count": 805,
   "metadata": {},
   "outputs": [],
   "source": [
    "col_subset = ['repo_name',\n",
    " 'createdAt',\n",
    " 'updatedAt',\n",
    " 'stargazers_count',\n",
    " 'releases_count',\n",
    " 'issues_count',\n",
    " 'forks_count',\n",
    " 'primaryLanguage',\n",
    " 'languages',\n",
    " 'package_dep']\n",
    "\n",
    "df_qunit = df_combined_final[df_combined_final['qunit']][col_subset]\n",
    "df_mocha = df_combined_final[df_combined_final['mocha']][col_subset]\n",
    "df_jest = df_combined_final[df_combined_final['jest']][col_subset]\n",
    "df_jasmine = df_combined_final[df_combined_final['jasmine']][col_subset]\n",
    "\n",
    "dict_df = OrderedDict()\n",
    "dict_df['qunit'] = df_qunit\n",
    "dict_df['mocha'] = df_mocha\n",
    "dict_df['jest'] = df_jest\n",
    "dict_df['jasmine'] = df_jasmine"
   ]
  },
  {
   "cell_type": "markdown",
   "metadata": {},
   "source": [
    "Let's create a function that we will use to print out a summary of each framework"
   ]
  },
  {
   "cell_type": "code",
   "execution_count": 806,
   "metadata": {},
   "outputs": [],
   "source": [
    "def print_framework_summary(dict_df, fw_name):\n",
    "    print('****** Framework: {} ******'.format(fw_name))\n",
    "    df = dict_df[fw_name]\n",
    "    \n",
    "    print('Number of repos: {}\\n'.format(df.shape[0]))\n",
    "    \n",
    "    # Find the most common package dependencies\n",
    "    # https://stackoverflow.com/questions/41007797/pandas-find-most-frequent-values-in-columns-of-lists\n",
    "    sum_deps = sum(df['package_dep'], [])\n",
    "    c_deps = Counter(sum_deps)\n",
    "    \n",
    "    # --- Top repos (in terms of stargazers_count) that use this framework\n",
    "    print('Top repos that uses \"{}\":\\n'.format(fw_name))\n",
    "    \n",
    "    df_temp_top_stargazers = df.sort_values(by=['stargazers_count'], ascending=False).iloc[0:20,:][['repo_name', 'stargazers_count', 'createdAt']].reset_index(drop=True)\n",
    "    df_temp_top_stargazers['Age (years)'] = round(df_temp_top_stargazers['createdAt'].apply(lambda x:  (pd.Timestamp.utcnow() - x)).dt.days / 365, 1)\n",
    "    df_temp_top_stargazers = df_temp_top_stargazers.drop(columns=['createdAt'])\n",
    "    print(df_temp_top_stargazers)\n",
    "\n",
    "    \n",
    "    df_plot = df_temp_top_stargazers[['repo_name', 'stargazers_count']].reset_index(drop=True)    \n",
    "    \n",
    "    df_plot = df_plot.set_index('repo_name')\n",
    "    df_plot.plot.barh()\n",
    "    plt.gca().invert_yaxis()\n",
    "    plt.title('Top repos that uses \"{}\"'.format(fw_name));\n",
    "    print('\\n')\n",
    "    \n",
    "    # --- Top common packages\n",
    "    print('Top common packages:\\n')\n",
    "    \n",
    "    top_deps =  c_deps.most_common(10)\n",
    "    for cur_top_dep in top_deps:\n",
    "        print('{}: {}'.format(cur_top_dep[0], cur_top_dep[1]))\n",
    "        \n",
    "    df_plot = pd.DataFrame(top_deps, columns=['package_name', 'count'])\n",
    "    df_plot = df_plot.set_index('package_name')\n",
    "    \n",
    "    df_plot.plot.barh()\n",
    "    plt.gca().invert_yaxis()\n",
    "    plt.title('Number of common packages that listed with \"{}\"'.format(fw_name));\n",
    "    \n",
    "    return df, c_deps\n",
    "    "
   ]
  },
  {
   "cell_type": "markdown",
   "metadata": {},
   "source": [
    "### QUnit"
   ]
  },
  {
   "cell_type": "code",
   "execution_count": 807,
   "metadata": {},
   "outputs": [
    {
     "name": "stdout",
     "output_type": "stream",
     "text": [
      "****** Framework: qunit ******\n",
      "Number of repos: 894\n",
      "\n",
      "Top repos that uses \"qunit\":\n",
      "\n",
      "                              repo_name  stargazers_count  Age (years)\n",
      "0                        twbs/bootstrap            134291          7.9\n",
      "1                       mrdoob/three.js             52682          9.3\n",
      "2                     hakimel/reveal.js             47067          8.1\n",
      "3                    impress/impress.js             34879          7.5\n",
      "4                       select2/select2             23704          7.3\n",
      "5                      emberjs/ember.js             21067          8.1\n",
      "6                julianshapiro/velocity             16076          5.2\n",
      "7                   js-cookie/js-cookie             13127          4.3\n",
      "8      uxsolutions/bootstrap-datepicker             11627          7.3\n",
      "9                     scottjehl/Respond             11510          8.4\n",
      "10                    aFarkas/lazysizes             11474          4.7\n",
      "11            DmitryBaranovskiy/raphael             10262         10.8\n",
      "12                scottjehl/picturefill              9922          7.4\n",
      "13  jquery-validation/jquery-validation              9460          9.2\n",
      "14                     zloirock/core-js              9010          6.0\n",
      "15                         gpujs/gpu.js              8981          3.4\n",
      "16               carhartl/jquery-cookie              8630          9.9\n",
      "17                    jacomyal/sigma.js              8581          7.3\n",
      "18                          haltu/muuri              8057          3.5\n",
      "19                   amsul/pickadate.js              7614          6.6\n",
      "\n",
      "\n",
      "Top common packages:\n",
      "\n",
      "ember-cli-htmlbars: 494\n",
      "ember-cli: 492\n",
      "ember-cli-inject-live-reload: 485\n",
      "ember-cli-dependency-checker: 481\n",
      "ember-cli-babel: 478\n",
      "broccoli-asset-rev: 472\n",
      "ember-cli-htmlbars-inline-precompile: 466\n",
      "ember-cli-uglify: 464\n",
      "ember-export-application-global: 463\n",
      "ember-resolver: 439\n"
     ]
    },
    {
     "data": {
      "image/png": "[encoded data removed]",
      "text/plain": [
       "<Figure size 432x288 with 1 Axes>"
      ]
     },
     "metadata": {
      "needs_background": "light"
     },
     "output_type": "display_data"
    },
    {
     "data": {
      "image/png": "[encoded data removed]",
      "text/plain": [
       "<Figure size 432x288 with 1 Axes>"
      ]
     },
     "metadata": {
      "needs_background": "light"
     },
     "output_type": "display_data"
    }
   ],
   "source": [
    "_, dep_qunit = print_framework_summary(dict_df, 'qunit');"
   ]
  },
  {
   "cell_type": "code",
   "execution_count": 808,
   "metadata": {},
   "outputs": [
    {
     "data": {
      "text/plain": [
       "[('ember-cli-htmlbars', 494),\n",
       " ('ember-cli', 492),\n",
       " ('ember-cli-inject-live-reload', 485),\n",
       " ('ember-cli-dependency-checker', 481),\n",
       " ('ember-cli-babel', 478),\n",
       " ('broccoli-asset-rev', 472),\n",
       " ('ember-cli-htmlbars-inline-precompile', 466),\n",
       " ('ember-cli-uglify', 464),\n",
       " ('ember-export-application-global', 463),\n",
       " ('ember-resolver', 439),\n",
       " ('loader.js', 439),\n",
       " ('ember-load-initializers', 436),\n",
       " ('ember-disable-prototype-extensions', 425),\n",
       " ('ember-cli-sri', 409),\n",
       " ('ember-source', 381),\n",
       " ('ember-cli-eslint', 351),\n",
       " ('ember-cli-qunit', 349),\n",
       " ('ember-try', 313),\n",
       " ('eslint-plugin-ember', 289),\n",
       " ('eslint-plugin-node', 280),\n",
       " ('grunt', 278),\n",
       " ('ember-source-channel-url', 249),\n",
       " ('ember-maybe-import-regenerator', 243),\n",
       " ('grunt-contrib-uglify', 235),\n",
       " ('grunt-contrib-qunit', 233),\n",
       " ('ember-ajax', 230),\n",
       " ('ember-cli-shims', 230),\n",
       " ('grunt-contrib-jshint', 201),\n",
       " ('ember-cli-release', 193),\n",
       " ('qunit-dom', 189)]"
      ]
     },
     "execution_count": 808,
     "metadata": {},
     "output_type": "execute_result"
    }
   ],
   "source": [
    "dep_qunit.most_common(30)"
   ]
  },
  {
   "cell_type": "markdown",
   "metadata": {},
   "source": [
    "### Mocha"
   ]
  },
  {
   "cell_type": "code",
   "execution_count": 809,
   "metadata": {},
   "outputs": [
    {
     "name": "stdout",
     "output_type": "stream",
     "text": [
      "****** Framework: mocha ******\n",
      "Number of repos: 7687\n",
      "\n",
      "Top repos that uses \"mocha\":\n",
      "\n",
      "                           repo_name  stargazers_count  Age (years)\n",
      "0                          vuejs/vue            142451          5.9\n",
      "1                  electron/electron             74662          6.2\n",
      "2                        axios/axios             61335          4.9\n",
      "3                          atom/atom             49149          7.4\n",
      "4                 socketio/socket.io             46765          9.3\n",
      "5                  expressjs/express             44454         10.0\n",
      "6             h5bp/html5-boilerplate             43006          9.4\n",
      "7                    ElemeFE/element             38822          2.8\n",
      "8   thedaviddias/Front-End-Checklist             34831          1.7\n",
      "9        google/material-design-lite             31303          4.5\n",
      "10                       gulpjs/gulp             31287          6.0\n",
      "11                    TryGhost/Ghost             30237          6.2\n",
      "12             zurb/foundation-sites             28176          7.7\n",
      "13                       hexojs/hexo             27008          6.8\n",
      "14           sahat/hackathon-starter             26894          5.6\n",
      "15                      caolan/async             25748          9.1\n",
      "16            RocketChat/Rocket.Chat             23205          4.1\n",
      "17                      github/fetch             22254          4.7\n",
      "18                  emberjs/ember.js             21067          8.1\n",
      "19                 balderdashy/sails             20625          7.3\n",
      "\n",
      "\n",
      "Top common packages:\n",
      "\n",
      "mocha: 7015\n",
      "chai: 4160\n",
      "eslint: 2846\n",
      "sinon: 2039\n",
      "lodash: 1607\n",
      "istanbul: 1493\n",
      "webpack: 1242\n",
      "coveralls: 1232\n",
      "babel-core: 1218\n",
      "babel-preset-es2015: 1135\n"
     ]
    },
    {
     "data": {
      "image/png": "[encoded data removed]",
      "text/plain": [
       "<Figure size 432x288 with 1 Axes>"
      ]
     },
     "metadata": {
      "needs_background": "light"
     },
     "output_type": "display_data"
    },
    {
     "data": {
      "image/png": "[encoded data removed]",
      "text/plain": [
       "<Figure size 432x288 with 1 Axes>"
      ]
     },
     "metadata": {
      "needs_background": "light"
     },
     "output_type": "display_data"
    }
   ],
   "source": [
    "_, dep_mocha = print_framework_summary(dict_df, 'mocha');"
   ]
  },
  {
   "cell_type": "code",
   "execution_count": 810,
   "metadata": {},
   "outputs": [
    {
     "data": {
      "text/plain": [
       "[('mocha', 7015),\n",
       " ('chai', 4160),\n",
       " ('eslint', 2846),\n",
       " ('sinon', 2039),\n",
       " ('lodash', 1607),\n",
       " ('istanbul', 1493),\n",
       " ('webpack', 1242),\n",
       " ('coveralls', 1232),\n",
       " ('babel-core', 1218),\n",
       " ('babel-preset-es2015', 1135),\n",
       " ('babel-eslint', 1122),\n",
       " ('gulp', 1114),\n",
       " ('karma', 1039),\n",
       " ('express', 1021),\n",
       " ('nyc', 1015),\n",
       " ('eslint-plugin-import', 989),\n",
       " ('babel-loader', 975),\n",
       " ('rimraf', 961),\n",
       " ('typescript', 955),\n",
       " ('babel-cli', 916),\n",
       " ('request', 857),\n",
       " ('karma-mocha', 836),\n",
       " ('should', 805),\n",
       " ('grunt', 765),\n",
       " ('karma-chrome-launcher', 746),\n",
       " ('sinon-chai', 710),\n",
       " ('eslint-plugin-react', 682),\n",
       " ('@types/node', 642),\n",
       " ('async', 632),\n",
       " ('babel-register', 624)]"
      ]
     },
     "execution_count": 810,
     "metadata": {},
     "output_type": "execute_result"
    }
   ],
   "source": [
    "dep_mocha.most_common(30)"
   ]
  },
  {
   "cell_type": "markdown",
   "metadata": {},
   "source": [
    "### Jest"
   ]
  },
  {
   "cell_type": "code",
   "execution_count": 811,
   "metadata": {},
   "outputs": [
    {
     "name": "stdout",
     "output_type": "stream",
     "text": [
      "****** Framework: jest ******\n",
      "Number of repos: 2131\n",
      "\n",
      "Top repos that uses \"jest\":\n",
      "\n",
      "                              repo_name  stargazers_count  Age (years)\n",
      "0                        facebook/react            131762          6.1\n",
      "1                       webpack/webpack             49656          7.3\n",
      "2                 ant-design/ant-design             48179          4.2\n",
      "3                  typicode/json-server             41014          5.6\n",
      "4                          zeit/next.js             38452          2.7\n",
      "5          PanJiaChen/vue-element-admin             36011          2.2\n",
      "6                       gatsbyjs/gatsby             35940          4.1\n",
      "7                           babel/babel             33625          4.8\n",
      "8                     prettier/prettier             32511          2.6\n",
      "9   styled-components/styled-components             24541          2.9\n",
      "10                         knsv/mermaid             23939          4.7\n",
      "11  react-boilerplate/react-boilerplate             22822          4.4\n",
      "12                     getsentry/sentry             21305          8.8\n",
      "13                      postcss/postcss             21077          5.8\n",
      "14                      dawnlabs/carbon             20286          2.0\n",
      "15                     transloadit/uppy             20100          3.6\n",
      "16                      t4t5/sweetalert             20057          4.8\n",
      "17                    vuetifyjs/vuetify             19772          2.8\n",
      "18                          mobxjs/mobx             19708          4.3\n",
      "19           kriasoft/react-starter-kit             19289          5.2\n",
      "\n",
      "\n",
      "Top common packages:\n",
      "\n",
      "jest: 1874\n",
      "eslint: 1301\n",
      "babel-jest: 970\n",
      "react: 871\n",
      "babel-eslint: 832\n",
      "babel-core: 813\n",
      "eslint-plugin-import: 780\n",
      "webpack: 750\n",
      "react-dom: 746\n",
      "eslint-plugin-react: 700\n"
     ]
    },
    {
     "data": {
      "image/png": "[encoded data removed]",
      "text/plain": [
       "<Figure size 432x288 with 1 Axes>"
      ]
     },
     "metadata": {
      "needs_background": "light"
     },
     "output_type": "display_data"
    },
    {
     "data": {
      "image/png": "[encoded data removed]",
      "text/plain": [
       "<Figure size 432x288 with 1 Axes>"
      ]
     },
     "metadata": {
      "needs_background": "light"
     },
     "output_type": "display_data"
    }
   ],
   "source": [
    "_, dep_jest = print_framework_summary(dict_df, 'jest');"
   ]
  },
  {
   "cell_type": "code",
   "execution_count": 812,
   "metadata": {},
   "outputs": [
    {
     "data": {
      "text/plain": [
       "[('jest', 1874),\n",
       " ('eslint', 1301),\n",
       " ('babel-jest', 970),\n",
       " ('react', 871),\n",
       " ('babel-eslint', 832),\n",
       " ('babel-core', 813),\n",
       " ('eslint-plugin-import', 780),\n",
       " ('webpack', 750),\n",
       " ('react-dom', 746),\n",
       " ('eslint-plugin-react', 700),\n",
       " ('prettier', 691),\n",
       " ('babel-loader', 655),\n",
       " ('rimraf', 553),\n",
       " ('husky', 526),\n",
       " ('typescript', 519),\n",
       " ('react-test-renderer', 517),\n",
       " ('prop-types', 493),\n",
       " ('@babel/core', 487),\n",
       " ('enzyme', 484),\n",
       " ('css-loader', 446),\n",
       " ('@babel/preset-env', 435),\n",
       " ('eslint-plugin-jsx-a11y', 429),\n",
       " ('babel-cli', 426),\n",
       " ('@types/jest', 424),\n",
       " ('lint-staged', 409),\n",
       " ('lodash', 390),\n",
       " ('babel-preset-react', 388),\n",
       " ('style-loader', 380),\n",
       " ('babel-preset-env', 377),\n",
       " ('coveralls', 374)]"
      ]
     },
     "execution_count": 812,
     "metadata": {},
     "output_type": "execute_result"
    }
   ],
   "source": [
    "dep_jest.most_common(30)"
   ]
  },
  {
   "cell_type": "markdown",
   "metadata": {},
   "source": [
    "### Jasmine"
   ]
  },
  {
   "cell_type": "code",
   "execution_count": 813,
   "metadata": {},
   "outputs": [
    {
     "name": "stdout",
     "output_type": "stream",
     "text": [
      "****** Framework: jasmine ******\n",
      "Number of repos: 2247\n",
      "\n",
      "Top repos that uses \"jasmine\":\n",
      "\n",
      "                repo_name  stargazers_count  Age (years)\n",
      "0               vuejs/vue            142451          5.9\n",
      "1          facebook/react            131762          6.1\n",
      "2             axios/axios             61335          4.9\n",
      "3               atom/atom             49149          7.4\n",
      "4        chartjs/Chart.js             44132          6.3\n",
      "5     Dogfalo/materialize             36020          4.8\n",
      "6          adobe/brackets             29889          7.6\n",
      "7          mozilla/pdf.js             27104          8.2\n",
      "8        nylas/nylas-mail             24388          4.7\n",
      "9           quilljs/quill             23195          6.9\n",
      "10    angular/angular-cli             21846          4.1\n",
      "11             vuejs/vuex             20813          4.0\n",
      "12     angular/components             18289          3.5\n",
      "13  chenglou/react-motion             16865          4.1\n",
      "14            MrRio/jsPDF             16842          9.6\n",
      "15       angular/material             16473          5.0\n",
      "16           less/less.js             16059          9.4\n",
      "17    SeleniumHQ/selenium             14831          6.5\n",
      "18   angular-ui/bootstrap             14729          6.7\n",
      "19        jasmine/jasmine             14425         10.6\n",
      "\n",
      "\n",
      "Top common packages:\n",
      "\n",
      "karma-jasmine: 1515\n",
      "karma: 1502\n",
      "jasmine-core: 1210\n",
      "karma-chrome-launcher: 1153\n",
      "karma-phantomjs-launcher: 732\n",
      "typescript: 650\n",
      "grunt: 621\n",
      "karma-coverage: 614\n",
      "gulp: 549\n",
      "@types/jasmine: 517\n"
     ]
    },
    {
     "data": {
      "image/png": "[encoded data removed]",
      "text/plain": [
       "<Figure size 432x288 with 1 Axes>"
      ]
     },
     "metadata": {
      "needs_background": "light"
     },
     "output_type": "display_data"
    },
    {
     "data": {
      "image/png": "[encoded data removed]",
      "text/plain": [
       "<Figure size 432x288 with 1 Axes>"
      ]
     },
     "metadata": {
      "needs_background": "light"
     },
     "output_type": "display_data"
    }
   ],
   "source": [
    "_, dep_jasmine = print_framework_summary(dict_df, 'jasmine');"
   ]
  },
  {
   "cell_type": "code",
   "execution_count": 814,
   "metadata": {},
   "outputs": [
    {
     "data": {
      "text/plain": [
       "[('karma-jasmine', 1515),\n",
       " ('karma', 1502),\n",
       " ('jasmine-core', 1210),\n",
       " ('karma-chrome-launcher', 1153),\n",
       " ('karma-phantomjs-launcher', 732),\n",
       " ('typescript', 650),\n",
       " ('grunt', 621),\n",
       " ('karma-coverage', 614),\n",
       " ('gulp', 549),\n",
       " ('@types/jasmine', 517),\n",
       " ('tslint', 503),\n",
       " ('jasmine', 487),\n",
       " ('karma-firefox-launcher', 474),\n",
       " ('@types/node', 445),\n",
       " ('webpack', 440),\n",
       " ('grunt-contrib-uglify', 435),\n",
       " ('grunt-contrib-watch', 413),\n",
       " ('eslint', 409),\n",
       " ('rxjs', 386),\n",
       " ('grunt-contrib-jshint', 379),\n",
       " ('zone.js', 366),\n",
       " ('@angular/core', 364),\n",
       " ('@angular/compiler', 363),\n",
       " ('@angular/common', 359),\n",
       " ('@angular/platform-browser', 356),\n",
       " ('@angular/platform-browser-dynamic', 356),\n",
       " ('protractor', 348),\n",
       " ('core-js', 341),\n",
       " ('grunt-contrib-concat', 339),\n",
       " ('@angular/compiler-cli', 336)]"
      ]
     },
     "execution_count": 814,
     "metadata": {},
     "output_type": "execute_result"
    }
   ],
   "source": [
    "dep_jasmine.most_common(30)"
   ]
  },
  {
   "cell_type": "code",
   "execution_count": null,
   "metadata": {},
   "outputs": [],
   "source": []
  }
 ],
 "metadata": {
  "kernelspec": {
   "display_name": "Python 3",
   "language": "python",
   "name": "python3"
  },
  "language_info": {
   "codemirror_mode": {
    "name": "ipython",
    "version": 3
   },
   "file_extension": ".py",
   "mimetype": "text/x-python",
   "name": "python",
   "nbconvert_exporter": "python",
   "pygments_lexer": "ipython3",
   "version": "3.6.8"
  }
 },
 "nbformat": 4,
 "nbformat_minor": 2
}
