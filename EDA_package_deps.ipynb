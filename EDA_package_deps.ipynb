{
 "cells": [
  {
   "cell_type": "markdown",
   "metadata": {},
   "source": [
    "# Exploratory Data Analysis - Package.json in GitHub repo"
   ]
  },
  {
   "cell_type": "markdown",
   "metadata": {},
   "source": [
    "Last Update: 07/01/19"
   ]
  },
  {
   "cell_type": "code",
   "execution_count": 865,
   "metadata": {},
   "outputs": [],
   "source": [
    "import pandas as pd\n",
    "import matplotlib.pyplot as plt\n",
    "\n",
    "from ast import literal_eval\n",
    "\n",
    "from collections import OrderedDict \n",
    "from collections import Counter\n",
    "\n"
   ]
  },
  {
   "cell_type": "code",
   "execution_count": 866,
   "metadata": {},
   "outputs": [],
   "source": [
    "%matplotlib inline\n"
   ]
  },
  {
   "cell_type": "markdown",
   "metadata": {},
   "source": [
    "## Load data"
   ]
  },
  {
   "cell_type": "markdown",
   "metadata": {},
   "source": [
    "Let's create a dataframe for \n",
    "1. Data of packages information of GitHub repositories that define at least one of the interested JS Testing framework in its package.json (data/github_package_deps_June_2019.csv)\n",
    "2. Data of GitHub repositories listed in (1) above (data/github_repo_for_package_deps_June_2019.csv)"
   ]
  },
  {
   "cell_type": "code",
   "execution_count": 867,
   "metadata": {},
   "outputs": [],
   "source": [
    "df_dep = pd.read_csv('data/github_package_deps_June_2019.csv')\n",
    "df_repo = pd.read_csv('data/github_repo_for_package_deps_June_2019.csv')"
   ]
  },
  {
   "cell_type": "markdown",
   "metadata": {},
   "source": [
    "Let's clean up the 'df_dep' dataframe first by converting the 'package_dep' column to a list of package names"
   ]
  },
  {
   "cell_type": "code",
   "execution_count": 868,
   "metadata": {},
   "outputs": [],
   "source": [
    "# Convert the 'package_dep' column to a list of string\n",
    "df_dep['package_dep'] = df_dep['package_dep'].apply(lambda x: x.split(','))"
   ]
  },
  {
   "cell_type": "code",
   "execution_count": 869,
   "metadata": {},
   "outputs": [
    {
     "data": {
      "text/html": [
       "<div>\n",
       "<style scoped>\n",
       "    .dataframe tbody tr th:only-of-type {\n",
       "        vertical-align: middle;\n",
       "    }\n",
       "\n",
       "    .dataframe tbody tr th {\n",
       "        vertical-align: top;\n",
       "    }\n",
       "\n",
       "    .dataframe thead th {\n",
       "        text-align: right;\n",
       "    }\n",
       "</style>\n",
       "<table border=\"1\" class=\"dataframe\">\n",
       "  <thead>\n",
       "    <tr style=\"text-align: right;\">\n",
       "      <th></th>\n",
       "      <th>repo_name</th>\n",
       "      <th>package_dep</th>\n",
       "      <th>mocha</th>\n",
       "      <th>jest</th>\n",
       "      <th>jasmine</th>\n",
       "      <th>qunit</th>\n",
       "      <th>funcunit</th>\n",
       "      <th>cypress</th>\n",
       "      <th>puppeteer</th>\n",
       "      <th>chai</th>\n",
       "      <th>sinon</th>\n",
       "    </tr>\n",
       "  </thead>\n",
       "  <tbody>\n",
       "    <tr>\n",
       "      <th>0</th>\n",
       "      <td>0-mb/pg-lb</td>\n",
       "      <td>[pg, mocha]</td>\n",
       "      <td>True</td>\n",
       "      <td>False</td>\n",
       "      <td>False</td>\n",
       "      <td>False</td>\n",
       "      <td>False</td>\n",
       "      <td>False</td>\n",
       "      <td>False</td>\n",
       "      <td>False</td>\n",
       "      <td>False</td>\n",
       "    </tr>\n",
       "    <tr>\n",
       "      <th>1</th>\n",
       "      <td>0000-bigtree/binary-protocol</td>\n",
       "      <td>[bluebird, expect.js, istanbul, jshint, mocha,...</td>\n",
       "      <td>True</td>\n",
       "      <td>False</td>\n",
       "      <td>False</td>\n",
       "      <td>False</td>\n",
       "      <td>False</td>\n",
       "      <td>False</td>\n",
       "      <td>False</td>\n",
       "      <td>False</td>\n",
       "      <td>False</td>\n",
       "    </tr>\n",
       "    <tr>\n",
       "      <th>2</th>\n",
       "      <td>0000000009/selenium-standalone</td>\n",
       "      <td>[async, commander, debug, lodash, minimist, mk...</td>\n",
       "      <td>True</td>\n",
       "      <td>False</td>\n",
       "      <td>False</td>\n",
       "      <td>False</td>\n",
       "      <td>False</td>\n",
       "      <td>False</td>\n",
       "      <td>False</td>\n",
       "      <td>False</td>\n",
       "      <td>False</td>\n",
       "    </tr>\n",
       "    <tr>\n",
       "      <th>3</th>\n",
       "      <td>001szymon/atom</td>\n",
       "      <td>[async, atom-keymap, babel-core, bootstrap, cl...</td>\n",
       "      <td>False</td>\n",
       "      <td>False</td>\n",
       "      <td>True</td>\n",
       "      <td>False</td>\n",
       "      <td>False</td>\n",
       "      <td>False</td>\n",
       "      <td>False</td>\n",
       "      <td>False</td>\n",
       "      <td>False</td>\n",
       "    </tr>\n",
       "    <tr>\n",
       "      <th>4</th>\n",
       "      <td>001szymon/phonegap-app-desktop</td>\n",
       "      <td>[grunt, grunt-cli, grunt-contrib-copy, grunt-c...</td>\n",
       "      <td>False</td>\n",
       "      <td>False</td>\n",
       "      <td>True</td>\n",
       "      <td>False</td>\n",
       "      <td>False</td>\n",
       "      <td>False</td>\n",
       "      <td>False</td>\n",
       "      <td>False</td>\n",
       "      <td>False</td>\n",
       "    </tr>\n",
       "  </tbody>\n",
       "</table>\n",
       "</div>"
      ],
      "text/plain": [
       "                        repo_name  \\\n",
       "0                      0-mb/pg-lb   \n",
       "1    0000-bigtree/binary-protocol   \n",
       "2  0000000009/selenium-standalone   \n",
       "3                  001szymon/atom   \n",
       "4  001szymon/phonegap-app-desktop   \n",
       "\n",
       "                                         package_dep  mocha   jest  jasmine  \\\n",
       "0                                        [pg, mocha]   True  False    False   \n",
       "1  [bluebird, expect.js, istanbul, jshint, mocha,...   True  False    False   \n",
       "2  [async, commander, debug, lodash, minimist, mk...   True  False    False   \n",
       "3  [async, atom-keymap, babel-core, bootstrap, cl...  False  False     True   \n",
       "4  [grunt, grunt-cli, grunt-contrib-copy, grunt-c...  False  False     True   \n",
       "\n",
       "   qunit  funcunit  cypress  puppeteer   chai  sinon  \n",
       "0  False     False    False      False  False  False  \n",
       "1  False     False    False      False  False  False  \n",
       "2  False     False    False      False  False  False  \n",
       "3  False     False    False      False  False  False  \n",
       "4  False     False    False      False  False  False  "
      ]
     },
     "execution_count": 869,
     "metadata": {},
     "output_type": "execute_result"
    }
   ],
   "source": [
    "df_dep.head()"
   ]
  },
  {
   "cell_type": "markdown",
   "metadata": {},
   "source": [
    "Then, clean up the 'df_repo' dataframe by \n",
    "1. Remove unused columns ('node_id') and rows with na\n",
    "2. Convert 'stargazers_count' and 'forks_count' columns to int\n",
    "3. Converting the 'languages' column which contains a string of list to an actual a list\n",
    "4. Convert 'createdAt' and 'updatedAt' columns to a datetime column"
   ]
  },
  {
   "cell_type": "code",
   "execution_count": 870,
   "metadata": {},
   "outputs": [],
   "source": [
    "# Drop unused columns first\n",
    "df_repo = df_repo.drop(columns=['node_id'])\n",
    "\n",
    "# Drop rows with NA\n",
    "df_repo = df_repo.dropna()"
   ]
  },
  {
   "cell_type": "code",
   "execution_count": 871,
   "metadata": {},
   "outputs": [
    {
     "data": {
      "text/plain": [
       "(203444, 9)"
      ]
     },
     "execution_count": 871,
     "metadata": {},
     "output_type": "execute_result"
    }
   ],
   "source": [
    "df_repo.shape"
   ]
  },
  {
   "cell_type": "code",
   "execution_count": 872,
   "metadata": {},
   "outputs": [],
   "source": [
    "# Convert 'stargazers_count' and 'forks_count' columns to int\n",
    "col_names = ['stargazers_count', 'forks_count']\n",
    "df_repo[col_names] = df_repo[col_names].astype(int)"
   ]
  },
  {
   "cell_type": "code",
   "execution_count": 873,
   "metadata": {},
   "outputs": [],
   "source": [
    "# Converting the 'languages' column which contains a string of list to an actual a list\n",
    "df_repo['languages'] = df_repo['languages'].apply(literal_eval)"
   ]
  },
  {
   "cell_type": "code",
   "execution_count": 874,
   "metadata": {},
   "outputs": [],
   "source": [
    "# Additionally, convert 'createdAt' and 'updatedAt' columns to a datetime column\n",
    "cols_datetime = ['createdAt', 'updatedAt']\n",
    "for col_name in cols_datetime:\n",
    "    df_repo[col_name] = pd.to_datetime(df_repo[col_name])"
   ]
  },
  {
   "cell_type": "code",
   "execution_count": 875,
   "metadata": {},
   "outputs": [
    {
     "data": {
      "text/html": [
       "<div>\n",
       "<style scoped>\n",
       "    .dataframe tbody tr th:only-of-type {\n",
       "        vertical-align: middle;\n",
       "    }\n",
       "\n",
       "    .dataframe tbody tr th {\n",
       "        vertical-align: top;\n",
       "    }\n",
       "\n",
       "    .dataframe thead th {\n",
       "        text-align: right;\n",
       "    }\n",
       "</style>\n",
       "<table border=\"1\" class=\"dataframe\">\n",
       "  <thead>\n",
       "    <tr style=\"text-align: right;\">\n",
       "      <th></th>\n",
       "      <th>repo_name</th>\n",
       "      <th>createdAt</th>\n",
       "      <th>updatedAt</th>\n",
       "      <th>stargazers_count</th>\n",
       "      <th>releases_count</th>\n",
       "      <th>issues_count</th>\n",
       "      <th>forks_count</th>\n",
       "      <th>primaryLanguage</th>\n",
       "      <th>languages</th>\n",
       "    </tr>\n",
       "  </thead>\n",
       "  <tbody>\n",
       "    <tr>\n",
       "      <th>0</th>\n",
       "      <td>01alchemist/TurboScript</td>\n",
       "      <td>2016-12-14 12:27:18+00:00</td>\n",
       "      <td>2019-06-24 11:10:25+00:00</td>\n",
       "      <td>472</td>\n",
       "      <td>2</td>\n",
       "      <td>85</td>\n",
       "      <td>32</td>\n",
       "      <td>JavaScript</td>\n",
       "      <td>[TypeScript, JavaScript, HTML, Shell, Batchfil...</td>\n",
       "    </tr>\n",
       "    <tr>\n",
       "      <th>1</th>\n",
       "      <td>0067ED/vue-block</td>\n",
       "      <td>2017-07-03 14:36:54+00:00</td>\n",
       "      <td>2019-06-12 20:07:25+00:00</td>\n",
       "      <td>38</td>\n",
       "      <td>0</td>\n",
       "      <td>1</td>\n",
       "      <td>4</td>\n",
       "      <td>JavaScript</td>\n",
       "      <td>[JavaScript, HTML, Vue]</td>\n",
       "    </tr>\n",
       "    <tr>\n",
       "      <th>2</th>\n",
       "      <td>01alchemist/x-ray.js</td>\n",
       "      <td>2016-04-21 09:06:24+00:00</td>\n",
       "      <td>2019-04-02 20:58:18+00:00</td>\n",
       "      <td>15</td>\n",
       "      <td>0</td>\n",
       "      <td>0</td>\n",
       "      <td>6</td>\n",
       "      <td>JavaScript</td>\n",
       "      <td>[JavaScript, TypeScript, HTML]</td>\n",
       "    </tr>\n",
       "    <tr>\n",
       "      <th>3</th>\n",
       "      <td>007design/gulp-prefix</td>\n",
       "      <td>2014-04-22 20:54:02+00:00</td>\n",
       "      <td>2017-03-05 09:42:21+00:00</td>\n",
       "      <td>7</td>\n",
       "      <td>0</td>\n",
       "      <td>5</td>\n",
       "      <td>4</td>\n",
       "      <td>JavaScript</td>\n",
       "      <td>[JavaScript, HTML]</td>\n",
       "    </tr>\n",
       "    <tr>\n",
       "      <th>4</th>\n",
       "      <td>01alchemist/x-ray-kernel</td>\n",
       "      <td>2016-09-08 12:09:44+00:00</td>\n",
       "      <td>2018-10-18 07:33:47+00:00</td>\n",
       "      <td>5</td>\n",
       "      <td>0</td>\n",
       "      <td>0</td>\n",
       "      <td>5</td>\n",
       "      <td>C++</td>\n",
       "      <td>[C++, Makefile, Batchfile, Shell, TypeScript, ...</td>\n",
       "    </tr>\n",
       "  </tbody>\n",
       "</table>\n",
       "</div>"
      ],
      "text/plain": [
       "                  repo_name                 createdAt  \\\n",
       "0   01alchemist/TurboScript 2016-12-14 12:27:18+00:00   \n",
       "1          0067ED/vue-block 2017-07-03 14:36:54+00:00   \n",
       "2      01alchemist/x-ray.js 2016-04-21 09:06:24+00:00   \n",
       "3     007design/gulp-prefix 2014-04-22 20:54:02+00:00   \n",
       "4  01alchemist/x-ray-kernel 2016-09-08 12:09:44+00:00   \n",
       "\n",
       "                  updatedAt  stargazers_count  releases_count  issues_count  \\\n",
       "0 2019-06-24 11:10:25+00:00               472               2            85   \n",
       "1 2019-06-12 20:07:25+00:00                38               0             1   \n",
       "2 2019-04-02 20:58:18+00:00                15               0             0   \n",
       "3 2017-03-05 09:42:21+00:00                 7               0             5   \n",
       "4 2018-10-18 07:33:47+00:00                 5               0             0   \n",
       "\n",
       "   forks_count primaryLanguage  \\\n",
       "0           32      JavaScript   \n",
       "1            4      JavaScript   \n",
       "2            6      JavaScript   \n",
       "3            4      JavaScript   \n",
       "4            5             C++   \n",
       "\n",
       "                                           languages  \n",
       "0  [TypeScript, JavaScript, HTML, Shell, Batchfil...  \n",
       "1                            [JavaScript, HTML, Vue]  \n",
       "2                     [JavaScript, TypeScript, HTML]  \n",
       "3                                 [JavaScript, HTML]  \n",
       "4  [C++, Makefile, Batchfile, Shell, TypeScript, ...  "
      ]
     },
     "execution_count": 875,
     "metadata": {},
     "output_type": "execute_result"
    }
   ],
   "source": [
    "df_repo.head()"
   ]
  },
  {
   "cell_type": "code",
   "execution_count": 876,
   "metadata": {},
   "outputs": [
    {
     "name": "stdout",
     "output_type": "stream",
     "text": [
      "<class 'pandas.core.frame.DataFrame'>\n",
      "Int64Index: 203444 entries, 0 to 213663\n",
      "Data columns (total 9 columns):\n",
      "repo_name           203444 non-null object\n",
      "createdAt           203444 non-null datetime64[ns, UTC]\n",
      "updatedAt           203444 non-null datetime64[ns, UTC]\n",
      "stargazers_count    203444 non-null int64\n",
      "releases_count      203444 non-null int64\n",
      "issues_count        203444 non-null int64\n",
      "forks_count         203444 non-null int64\n",
      "primaryLanguage     203444 non-null object\n",
      "languages           203444 non-null object\n",
      "dtypes: datetime64[ns, UTC](2), int64(4), object(3)\n",
      "memory usage: 15.5+ MB\n"
     ]
    }
   ],
   "source": [
    "df_repo.info()"
   ]
  },
  {
   "cell_type": "markdown",
   "metadata": {},
   "source": [
    "Now, create a combined dataframe for those with repo information"
   ]
  },
  {
   "cell_type": "code",
   "execution_count": 877,
   "metadata": {},
   "outputs": [],
   "source": [
    "df_combined = df_repo.merge(df_dep, on='repo_name')"
   ]
  },
  {
   "cell_type": "code",
   "execution_count": 878,
   "metadata": {},
   "outputs": [
    {
     "data": {
      "text/html": [
       "<div>\n",
       "<style scoped>\n",
       "    .dataframe tbody tr th:only-of-type {\n",
       "        vertical-align: middle;\n",
       "    }\n",
       "\n",
       "    .dataframe tbody tr th {\n",
       "        vertical-align: top;\n",
       "    }\n",
       "\n",
       "    .dataframe thead th {\n",
       "        text-align: right;\n",
       "    }\n",
       "</style>\n",
       "<table border=\"1\" class=\"dataframe\">\n",
       "  <thead>\n",
       "    <tr style=\"text-align: right;\">\n",
       "      <th></th>\n",
       "      <th>repo_name</th>\n",
       "      <th>createdAt</th>\n",
       "      <th>updatedAt</th>\n",
       "      <th>stargazers_count</th>\n",
       "      <th>releases_count</th>\n",
       "      <th>issues_count</th>\n",
       "      <th>forks_count</th>\n",
       "      <th>primaryLanguage</th>\n",
       "      <th>languages</th>\n",
       "      <th>package_dep</th>\n",
       "      <th>mocha</th>\n",
       "      <th>jest</th>\n",
       "      <th>jasmine</th>\n",
       "      <th>qunit</th>\n",
       "      <th>funcunit</th>\n",
       "      <th>cypress</th>\n",
       "      <th>puppeteer</th>\n",
       "      <th>chai</th>\n",
       "      <th>sinon</th>\n",
       "    </tr>\n",
       "  </thead>\n",
       "  <tbody>\n",
       "    <tr>\n",
       "      <th>0</th>\n",
       "      <td>01alchemist/TurboScript</td>\n",
       "      <td>2016-12-14 12:27:18+00:00</td>\n",
       "      <td>2019-06-24 11:10:25+00:00</td>\n",
       "      <td>472</td>\n",
       "      <td>2</td>\n",
       "      <td>85</td>\n",
       "      <td>32</td>\n",
       "      <td>JavaScript</td>\n",
       "      <td>[TypeScript, JavaScript, HTML, Shell, Batchfil...</td>\n",
       "      <td>[binaryen, @types/debug, @types/fs-extra, @typ...</td>\n",
       "      <td>False</td>\n",
       "      <td>True</td>\n",
       "      <td>False</td>\n",
       "      <td>False</td>\n",
       "      <td>False</td>\n",
       "      <td>False</td>\n",
       "      <td>False</td>\n",
       "      <td>False</td>\n",
       "      <td>False</td>\n",
       "    </tr>\n",
       "    <tr>\n",
       "      <th>1</th>\n",
       "      <td>0067ED/vue-block</td>\n",
       "      <td>2017-07-03 14:36:54+00:00</td>\n",
       "      <td>2019-06-12 20:07:25+00:00</td>\n",
       "      <td>38</td>\n",
       "      <td>0</td>\n",
       "      <td>1</td>\n",
       "      <td>4</td>\n",
       "      <td>JavaScript</td>\n",
       "      <td>[JavaScript, HTML, Vue]</td>\n",
       "      <td>[autoprefixer, babel-core, babel-eslint, babel...</td>\n",
       "      <td>True</td>\n",
       "      <td>False</td>\n",
       "      <td>False</td>\n",
       "      <td>False</td>\n",
       "      <td>False</td>\n",
       "      <td>False</td>\n",
       "      <td>False</td>\n",
       "      <td>True</td>\n",
       "      <td>True</td>\n",
       "    </tr>\n",
       "    <tr>\n",
       "      <th>2</th>\n",
       "      <td>01alchemist/x-ray.js</td>\n",
       "      <td>2016-04-21 09:06:24+00:00</td>\n",
       "      <td>2019-04-02 20:58:18+00:00</td>\n",
       "      <td>15</td>\n",
       "      <td>0</td>\n",
       "      <td>0</td>\n",
       "      <td>6</td>\n",
       "      <td>JavaScript</td>\n",
       "      <td>[JavaScript, TypeScript, HTML]</td>\n",
       "      <td>[xdata, @types/jest, @types/three, bin-loader,...</td>\n",
       "      <td>False</td>\n",
       "      <td>True</td>\n",
       "      <td>False</td>\n",
       "      <td>False</td>\n",
       "      <td>False</td>\n",
       "      <td>False</td>\n",
       "      <td>False</td>\n",
       "      <td>False</td>\n",
       "      <td>False</td>\n",
       "    </tr>\n",
       "    <tr>\n",
       "      <th>3</th>\n",
       "      <td>007design/gulp-prefix</td>\n",
       "      <td>2014-04-22 20:54:02+00:00</td>\n",
       "      <td>2017-03-05 09:42:21+00:00</td>\n",
       "      <td>7</td>\n",
       "      <td>0</td>\n",
       "      <td>5</td>\n",
       "      <td>4</td>\n",
       "      <td>JavaScript</td>\n",
       "      <td>[JavaScript, HTML]</td>\n",
       "      <td>[through2, url, trumpet, concat-stream, url-jo...</td>\n",
       "      <td>False</td>\n",
       "      <td>False</td>\n",
       "      <td>True</td>\n",
       "      <td>False</td>\n",
       "      <td>False</td>\n",
       "      <td>False</td>\n",
       "      <td>False</td>\n",
       "      <td>False</td>\n",
       "      <td>False</td>\n",
       "    </tr>\n",
       "    <tr>\n",
       "      <th>4</th>\n",
       "      <td>01alchemist/x-ray-kernel</td>\n",
       "      <td>2016-09-08 12:09:44+00:00</td>\n",
       "      <td>2018-10-18 07:33:47+00:00</td>\n",
       "      <td>5</td>\n",
       "      <td>0</td>\n",
       "      <td>0</td>\n",
       "      <td>5</td>\n",
       "      <td>C++</td>\n",
       "      <td>[C++, Makefile, Batchfile, Shell, TypeScript, ...</td>\n",
       "      <td>[three, @types/jasmine, concurrently, jasmine-...</td>\n",
       "      <td>False</td>\n",
       "      <td>False</td>\n",
       "      <td>True</td>\n",
       "      <td>False</td>\n",
       "      <td>False</td>\n",
       "      <td>False</td>\n",
       "      <td>False</td>\n",
       "      <td>False</td>\n",
       "      <td>False</td>\n",
       "    </tr>\n",
       "  </tbody>\n",
       "</table>\n",
       "</div>"
      ],
      "text/plain": [
       "                  repo_name                 createdAt  \\\n",
       "0   01alchemist/TurboScript 2016-12-14 12:27:18+00:00   \n",
       "1          0067ED/vue-block 2017-07-03 14:36:54+00:00   \n",
       "2      01alchemist/x-ray.js 2016-04-21 09:06:24+00:00   \n",
       "3     007design/gulp-prefix 2014-04-22 20:54:02+00:00   \n",
       "4  01alchemist/x-ray-kernel 2016-09-08 12:09:44+00:00   \n",
       "\n",
       "                  updatedAt  stargazers_count  releases_count  issues_count  \\\n",
       "0 2019-06-24 11:10:25+00:00               472               2            85   \n",
       "1 2019-06-12 20:07:25+00:00                38               0             1   \n",
       "2 2019-04-02 20:58:18+00:00                15               0             0   \n",
       "3 2017-03-05 09:42:21+00:00                 7               0             5   \n",
       "4 2018-10-18 07:33:47+00:00                 5               0             0   \n",
       "\n",
       "   forks_count primaryLanguage  \\\n",
       "0           32      JavaScript   \n",
       "1            4      JavaScript   \n",
       "2            6      JavaScript   \n",
       "3            4      JavaScript   \n",
       "4            5             C++   \n",
       "\n",
       "                                           languages  \\\n",
       "0  [TypeScript, JavaScript, HTML, Shell, Batchfil...   \n",
       "1                            [JavaScript, HTML, Vue]   \n",
       "2                     [JavaScript, TypeScript, HTML]   \n",
       "3                                 [JavaScript, HTML]   \n",
       "4  [C++, Makefile, Batchfile, Shell, TypeScript, ...   \n",
       "\n",
       "                                         package_dep  mocha   jest  jasmine  \\\n",
       "0  [binaryen, @types/debug, @types/fs-extra, @typ...  False   True    False   \n",
       "1  [autoprefixer, babel-core, babel-eslint, babel...   True  False    False   \n",
       "2  [xdata, @types/jest, @types/three, bin-loader,...  False   True    False   \n",
       "3  [through2, url, trumpet, concat-stream, url-jo...  False  False     True   \n",
       "4  [three, @types/jasmine, concurrently, jasmine-...  False  False     True   \n",
       "\n",
       "   qunit  funcunit  cypress  puppeteer   chai  sinon  \n",
       "0  False     False    False      False  False  False  \n",
       "1  False     False    False      False   True   True  \n",
       "2  False     False    False      False  False  False  \n",
       "3  False     False    False      False  False  False  \n",
       "4  False     False    False      False  False  False  "
      ]
     },
     "execution_count": 878,
     "metadata": {},
     "output_type": "execute_result"
    }
   ],
   "source": [
    "df_combined.head()"
   ]
  },
  {
   "cell_type": "code",
   "execution_count": 879,
   "metadata": {},
   "outputs": [
    {
     "data": {
      "text/html": [
       "<div>\n",
       "<style scoped>\n",
       "    .dataframe tbody tr th:only-of-type {\n",
       "        vertical-align: middle;\n",
       "    }\n",
       "\n",
       "    .dataframe tbody tr th {\n",
       "        vertical-align: top;\n",
       "    }\n",
       "\n",
       "    .dataframe thead th {\n",
       "        text-align: right;\n",
       "    }\n",
       "</style>\n",
       "<table border=\"1\" class=\"dataframe\">\n",
       "  <thead>\n",
       "    <tr style=\"text-align: right;\">\n",
       "      <th></th>\n",
       "      <th>stargazers_count</th>\n",
       "      <th>releases_count</th>\n",
       "      <th>issues_count</th>\n",
       "      <th>forks_count</th>\n",
       "    </tr>\n",
       "  </thead>\n",
       "  <tbody>\n",
       "    <tr>\n",
       "      <th>count</th>\n",
       "      <td>202705.000000</td>\n",
       "      <td>202705.000000</td>\n",
       "      <td>202705.000000</td>\n",
       "      <td>202705.000000</td>\n",
       "    </tr>\n",
       "    <tr>\n",
       "      <th>mean</th>\n",
       "      <td>74.425421</td>\n",
       "      <td>0.756824</td>\n",
       "      <td>11.783059</td>\n",
       "      <td>12.685316</td>\n",
       "    </tr>\n",
       "    <tr>\n",
       "      <th>std</th>\n",
       "      <td>1269.378453</td>\n",
       "      <td>12.487368</td>\n",
       "      <td>158.359947</td>\n",
       "      <td>250.923332</td>\n",
       "    </tr>\n",
       "    <tr>\n",
       "      <th>min</th>\n",
       "      <td>0.000000</td>\n",
       "      <td>-1.000000</td>\n",
       "      <td>0.000000</td>\n",
       "      <td>0.000000</td>\n",
       "    </tr>\n",
       "    <tr>\n",
       "      <th>25%</th>\n",
       "      <td>0.000000</td>\n",
       "      <td>-1.000000</td>\n",
       "      <td>0.000000</td>\n",
       "      <td>0.000000</td>\n",
       "    </tr>\n",
       "    <tr>\n",
       "      <th>50%</th>\n",
       "      <td>0.000000</td>\n",
       "      <td>0.000000</td>\n",
       "      <td>0.000000</td>\n",
       "      <td>0.000000</td>\n",
       "    </tr>\n",
       "    <tr>\n",
       "      <th>75%</th>\n",
       "      <td>2.000000</td>\n",
       "      <td>0.000000</td>\n",
       "      <td>1.000000</td>\n",
       "      <td>1.000000</td>\n",
       "    </tr>\n",
       "    <tr>\n",
       "      <th>max</th>\n",
       "      <td>303554.000000</td>\n",
       "      <td>3467.000000</td>\n",
       "      <td>18589.000000</td>\n",
       "      <td>65869.000000</td>\n",
       "    </tr>\n",
       "  </tbody>\n",
       "</table>\n",
       "</div>"
      ],
      "text/plain": [
       "       stargazers_count  releases_count   issues_count    forks_count\n",
       "count     202705.000000   202705.000000  202705.000000  202705.000000\n",
       "mean          74.425421        0.756824      11.783059      12.685316\n",
       "std         1269.378453       12.487368     158.359947     250.923332\n",
       "min            0.000000       -1.000000       0.000000       0.000000\n",
       "25%            0.000000       -1.000000       0.000000       0.000000\n",
       "50%            0.000000        0.000000       0.000000       0.000000\n",
       "75%            2.000000        0.000000       1.000000       1.000000\n",
       "max       303554.000000     3467.000000   18589.000000   65869.000000"
      ]
     },
     "execution_count": 879,
     "metadata": {},
     "output_type": "execute_result"
    }
   ],
   "source": [
    "df_combined.describe()"
   ]
  },
  {
   "cell_type": "markdown",
   "metadata": {},
   "source": [
    "Let's take a look at a ratio of each JS Testing Framework"
   ]
  },
  {
   "cell_type": "code",
   "execution_count": 880,
   "metadata": {},
   "outputs": [],
   "source": [
    "cols_testing_fw = [\n",
    "    'qunit',\n",
    "    'mocha',\n",
    "    'jest',\n",
    "    'jasmine',\n",
    "    'funcunit',        \n",
    "    'puppeteer',\n",
    "    'cypress',\n",
    "    'chai',\n",
    "    'sinon'\n",
    "]\n",
    "\n",
    "df_num_fw = df_combined[cols_testing_fw].sum().sort_values(ascending=False)"
   ]
  },
  {
   "cell_type": "code",
   "execution_count": 881,
   "metadata": {},
   "outputs": [
    {
     "data": {
      "text/plain": [
       "mocha        124375\n",
       "chai          64033\n",
       "jasmine       49151\n",
       "sinon         33064\n",
       "qunit         21629\n",
       "jest          14568\n",
       "puppeteer       706\n",
       "cypress         242\n",
       "funcunit         22\n",
       "dtype: int64"
      ]
     },
     "execution_count": 881,
     "metadata": {},
     "output_type": "execute_result"
    }
   ],
   "source": [
    "df_num_fw"
   ]
  },
  {
   "cell_type": "code",
   "execution_count": 882,
   "metadata": {},
   "outputs": [
    {
     "data": {
      "text/plain": [
       "mocha        40.409045\n",
       "chai         20.804120\n",
       "jasmine      15.969005\n",
       "sinon        10.742389\n",
       "qunit         7.027194\n",
       "jest          4.733097\n",
       "puppeteer     0.229377\n",
       "cypress       0.078625\n",
       "funcunit      0.007148\n",
       "dtype: float64"
      ]
     },
     "execution_count": 882,
     "metadata": {},
     "output_type": "execute_result"
    }
   ],
   "source": [
    "(df_num_fw / df_num_fw.sum()) * 100"
   ]
  },
  {
   "cell_type": "code",
   "execution_count": 883,
   "metadata": {},
   "outputs": [
    {
     "data": {
      "image/png": "[encoded data removed]",
      "text/plain": [
       "<Figure size 432x288 with 1 Axes>"
      ]
     },
     "metadata": {
      "needs_background": "light"
     },
     "output_type": "display_data"
    }
   ],
   "source": [
    "df_num_fw.plot.barh();\n",
    "plt.gca().invert_yaxis()\n",
    "plt.title('Number of repos that specify JS Testing Framework in package.json');"
   ]
  },
  {
   "cell_type": "markdown",
   "metadata": {},
   "source": [
    "## Exploratory Data Analysis"
   ]
  },
  {
   "cell_type": "markdown",
   "metadata": {},
   "source": [
    "## When did those github repos created?"
   ]
  },
  {
   "cell_type": "code",
   "execution_count": 884,
   "metadata": {},
   "outputs": [
    {
     "data": {
      "image/png": "[encoded data removed]",
      "text/plain": [
       "<Figure size 432x288 with 1 Axes>"
      ]
     },
     "metadata": {
      "needs_background": "light"
     },
     "output_type": "display_data"
    }
   ],
   "source": [
    "df_combined.groupby(pd.Grouper(key='createdAt', freq='W'))['repo_name'].count().plot();\n"
   ]
  },
  {
   "cell_type": "markdown",
   "metadata": {},
   "source": [
    "What is that spike in 2015! Let's take a look at data in that period to find out what is going on."
   ]
  },
  {
   "cell_type": "code",
   "execution_count": 885,
   "metadata": {},
   "outputs": [],
   "source": [
    "# df_combined = df_combined[df_combined['stargazers_count'] > 5]\n",
    "start_date = '07-01-2015'\n",
    "end_date = '11-01-2015'\n",
    "df_2015_suspect = df_combined[(df_combined['createdAt'] >= start_date) & ((df_combined['createdAt'] < end_date))]\n"
   ]
  },
  {
   "cell_type": "code",
   "execution_count": 886,
   "metadata": {},
   "outputs": [
    {
     "data": {
      "text/plain": [
       "createdAt\n",
       "2015-07-05 00:00:00+00:00     835\n",
       "2015-07-12 00:00:00+00:00    1504\n",
       "2015-07-19 00:00:00+00:00    2122\n",
       "2015-07-26 00:00:00+00:00    2457\n",
       "2015-08-02 00:00:00+00:00    2577\n",
       "2015-08-09 00:00:00+00:00    2668\n",
       "2015-08-16 00:00:00+00:00    2802\n",
       "2015-08-23 00:00:00+00:00    3171\n",
       "2015-08-30 00:00:00+00:00    3233\n",
       "2015-09-06 00:00:00+00:00    3340\n",
       "2015-09-13 00:00:00+00:00    3437\n",
       "2015-09-20 00:00:00+00:00    4295\n",
       "2015-09-27 00:00:00+00:00    4414\n",
       "2015-10-04 00:00:00+00:00    2953\n",
       "2015-10-11 00:00:00+00:00    1151\n",
       "2015-10-18 00:00:00+00:00    1171\n",
       "2015-10-25 00:00:00+00:00    1158\n",
       "2015-11-01 00:00:00+00:00    1102\n",
       "Freq: W-SUN, Name: repo_name, dtype: int64"
      ]
     },
     "execution_count": 886,
     "metadata": {},
     "output_type": "execute_result"
    }
   ],
   "source": [
    "df_2015_suspect.groupby(pd.Grouper(key='createdAt', freq='W'))['repo_name'].count()"
   ]
  },
  {
   "cell_type": "markdown",
   "metadata": {},
   "source": [
    "Looks like some thing is going on between a week of 2015-07-19 to 2015-10-11. Let's zoom into this datarange"
   ]
  },
  {
   "cell_type": "code",
   "execution_count": 887,
   "metadata": {},
   "outputs": [
    {
     "name": "stderr",
     "output_type": "stream",
     "text": [
      "/Users/nongnoochr/anaconda3/lib/python3.6/site-packages/ipykernel_launcher.py:1: UserWarning: Boolean Series key will be reindexed to match DataFrame index.\n",
      "  \"\"\"Entry point for launching an IPython kernel.\n"
     ]
    }
   ],
   "source": [
    "df_2015_suspect = df_2015_suspect[(df_2015_suspect['createdAt'] >= '07-15-2015') & ((df_combined['createdAt'] < '10-15-2015'))]\n"
   ]
  },
  {
   "cell_type": "code",
   "execution_count": 888,
   "metadata": {},
   "outputs": [
    {
     "data": {
      "text/plain": [
       "(38648, 19)"
      ]
     },
     "execution_count": 888,
     "metadata": {},
     "output_type": "execute_result"
    }
   ],
   "source": [
    "df_2015_suspect.shape"
   ]
  },
  {
   "cell_type": "code",
   "execution_count": 889,
   "metadata": {},
   "outputs": [
    {
     "data": {
      "text/html": [
       "<div>\n",
       "<style scoped>\n",
       "    .dataframe tbody tr th:only-of-type {\n",
       "        vertical-align: middle;\n",
       "    }\n",
       "\n",
       "    .dataframe tbody tr th {\n",
       "        vertical-align: top;\n",
       "    }\n",
       "\n",
       "    .dataframe thead th {\n",
       "        text-align: right;\n",
       "    }\n",
       "</style>\n",
       "<table border=\"1\" class=\"dataframe\">\n",
       "  <thead>\n",
       "    <tr style=\"text-align: right;\">\n",
       "      <th></th>\n",
       "      <th>stargazers_count</th>\n",
       "      <th>releases_count</th>\n",
       "      <th>issues_count</th>\n",
       "      <th>forks_count</th>\n",
       "    </tr>\n",
       "  </thead>\n",
       "  <tbody>\n",
       "    <tr>\n",
       "      <th>count</th>\n",
       "      <td>38648.000000</td>\n",
       "      <td>38648.000000</td>\n",
       "      <td>38648.000000</td>\n",
       "      <td>38648.000000</td>\n",
       "    </tr>\n",
       "    <tr>\n",
       "      <th>mean</th>\n",
       "      <td>23.014697</td>\n",
       "      <td>-0.314324</td>\n",
       "      <td>3.865194</td>\n",
       "      <td>3.650331</td>\n",
       "    </tr>\n",
       "    <tr>\n",
       "      <th>std</th>\n",
       "      <td>538.393438</td>\n",
       "      <td>6.592202</td>\n",
       "      <td>78.798977</td>\n",
       "      <td>81.670859</td>\n",
       "    </tr>\n",
       "    <tr>\n",
       "      <th>min</th>\n",
       "      <td>0.000000</td>\n",
       "      <td>-1.000000</td>\n",
       "      <td>0.000000</td>\n",
       "      <td>0.000000</td>\n",
       "    </tr>\n",
       "    <tr>\n",
       "      <th>25%</th>\n",
       "      <td>0.000000</td>\n",
       "      <td>-1.000000</td>\n",
       "      <td>0.000000</td>\n",
       "      <td>0.000000</td>\n",
       "    </tr>\n",
       "    <tr>\n",
       "      <th>50%</th>\n",
       "      <td>0.000000</td>\n",
       "      <td>-1.000000</td>\n",
       "      <td>0.000000</td>\n",
       "      <td>0.000000</td>\n",
       "    </tr>\n",
       "    <tr>\n",
       "      <th>75%</th>\n",
       "      <td>0.000000</td>\n",
       "      <td>0.000000</td>\n",
       "      <td>0.000000</td>\n",
       "      <td>0.000000</td>\n",
       "    </tr>\n",
       "    <tr>\n",
       "      <th>max</th>\n",
       "      <td>78895.000000</td>\n",
       "      <td>968.000000</td>\n",
       "      <td>8947.000000</td>\n",
       "      <td>10982.000000</td>\n",
       "    </tr>\n",
       "  </tbody>\n",
       "</table>\n",
       "</div>"
      ],
      "text/plain": [
       "       stargazers_count  releases_count  issues_count   forks_count\n",
       "count      38648.000000    38648.000000  38648.000000  38648.000000\n",
       "mean          23.014697       -0.314324      3.865194      3.650331\n",
       "std          538.393438        6.592202     78.798977     81.670859\n",
       "min            0.000000       -1.000000      0.000000      0.000000\n",
       "25%            0.000000       -1.000000      0.000000      0.000000\n",
       "50%            0.000000       -1.000000      0.000000      0.000000\n",
       "75%            0.000000        0.000000      0.000000      0.000000\n",
       "max        78895.000000      968.000000   8947.000000  10982.000000"
      ]
     },
     "execution_count": 889,
     "metadata": {},
     "output_type": "execute_result"
    }
   ],
   "source": [
    "df_2015_suspect.describe()"
   ]
  },
  {
   "cell_type": "markdown",
   "metadata": {},
   "source": [
    "More than half of the data in this range have **releases_count == -1**! (To be precise, around 70% of repos created during this time range have releases_count == -1. See the code cell below)\n",
    "\n",
    "I took a look at a few of those repos and all of them are **forked repos!** \n",
    "Something might have happened during that time but I could not find any solid incidense or events that might have introduced this behavior online."
   ]
  },
  {
   "cell_type": "code",
   "execution_count": 890,
   "metadata": {},
   "outputs": [
    {
     "data": {
      "text/plain": [
       "26913"
      ]
     },
     "execution_count": 890,
     "metadata": {},
     "output_type": "execute_result"
    }
   ],
   "source": [
    "# Number of repos with releases_count == -1 during the suspect period\n",
    "sum(df_2015_suspect['releases_count'] < 0)"
   ]
  },
  {
   "cell_type": "code",
   "execution_count": 891,
   "metadata": {},
   "outputs": [
    {
     "data": {
      "text/plain": [
       "0.6963620368453737"
      ]
     },
     "execution_count": 891,
     "metadata": {},
     "output_type": "execute_result"
    }
   ],
   "source": [
    "# Ration of repos with releases_count == -1 during the suspect period\n",
    "sum(df_2015_suspect['releases_count'] < 0)/df_2015_suspect.shape[0]"
   ]
  },
  {
   "cell_type": "markdown",
   "metadata": {},
   "source": [
    "Since the forked repos will not give us much insights, we will drop repos with where \"releases_count == -1\" from the original combined dataset and inspect the createdOn of the remain repos"
   ]
  },
  {
   "cell_type": "code",
   "execution_count": 892,
   "metadata": {},
   "outputs": [],
   "source": [
    "df_combined_clean = df_combined[df_combined['releases_count'] >= 0]"
   ]
  },
  {
   "cell_type": "markdown",
   "metadata": {},
   "source": [
    "After droping those repos, we are left with only 19863 repos which is **around 68%** of the original dataset"
   ]
  },
  {
   "cell_type": "code",
   "execution_count": 893,
   "metadata": {},
   "outputs": [
    {
     "data": {
      "text/plain": [
       "(137793, 19)"
      ]
     },
     "execution_count": 893,
     "metadata": {},
     "output_type": "execute_result"
    }
   ],
   "source": [
    "df_combined_clean.shape"
   ]
  },
  {
   "cell_type": "code",
   "execution_count": 894,
   "metadata": {},
   "outputs": [
    {
     "data": {
      "text/plain": [
       "(202705, 19)"
      ]
     },
     "execution_count": 894,
     "metadata": {},
     "output_type": "execute_result"
    }
   ],
   "source": [
    "df_combined.shape"
   ]
  },
  {
   "cell_type": "code",
   "execution_count": 895,
   "metadata": {},
   "outputs": [
    {
     "data": {
      "text/plain": [
       "0.6797710959275794"
      ]
     },
     "execution_count": 895,
     "metadata": {},
     "output_type": "execute_result"
    }
   ],
   "source": [
    "df_combined_clean.shape[0] / df_combined.shape[0]"
   ]
  },
  {
   "cell_type": "markdown",
   "metadata": {},
   "source": [
    "Let's plot a line chart for the createdAt data again. \n",
    "\n",
    "Now we get a smoother plot **EXCEPT** that there is a big drop of a number of projects around the end of 2017."
   ]
  },
  {
   "cell_type": "code",
   "execution_count": 896,
   "metadata": {},
   "outputs": [
    {
     "name": "stderr",
     "output_type": "stream",
     "text": [
      "/Users/nongnoochr/anaconda3/lib/python3.6/site-packages/pandas/core/arrays/datetimes.py:1172: UserWarning: Converting to PeriodArray/Index representation will drop timezone information.\n",
      "  \"will drop timezone information.\", UserWarning)\n"
     ]
    },
    {
     "data": {
      "image/png": "[encoded data removed]",
      "text/plain": [
       "<Figure size 432x288 with 1 Axes>"
      ]
     },
     "metadata": {
      "needs_background": "light"
     },
     "output_type": "display_data"
    }
   ],
   "source": [
    "df_combined_clean.groupby(pd.Grouper(key='createdAt', freq='W'))['repo_name'].count().plot();\n"
   ]
  },
  {
   "cell_type": "markdown",
   "metadata": {},
   "source": [
    "However, if we look at the updatedAt data, most of those repos have recently been updated in 2019.\n",
    "\n",
    "Is GitHub's recent annoucement in 2019 to get [unlimited free private repos](https://techcrunch.com/2019/01/07/github-free-users-now-get-unlimited-private-repositories/) contribute to a drop of a number of public repos created recently? (I even moved a few of my repos to private after this new year resolution was rolled out)\n",
    "\n",
    "Nevertheless, since most of the remaining repos are active (which is a good thing for our analysis) and we have a good number of repos with a varity of testing frameworks to analyze, I will proceed with this data."
   ]
  },
  {
   "cell_type": "code",
   "execution_count": 897,
   "metadata": {},
   "outputs": [
    {
     "name": "stderr",
     "output_type": "stream",
     "text": [
      "/Users/nongnoochr/anaconda3/lib/python3.6/site-packages/pandas/core/arrays/datetimes.py:1172: UserWarning: Converting to PeriodArray/Index representation will drop timezone information.\n",
      "  \"will drop timezone information.\", UserWarning)\n"
     ]
    },
    {
     "data": {
      "image/png": "[encoded data removed]",
      "text/plain": [
       "<Figure size 432x288 with 1 Axes>"
      ]
     },
     "metadata": {
      "needs_background": "light"
     },
     "output_type": "display_data"
    }
   ],
   "source": [
    "# Inspect the updatedAt data\n",
    "df_updatedAt = df_combined_clean.groupby(pd.Grouper(key='updatedAt', freq='W'))['repo_name'].count()\n",
    "df_updatedAt.plot();"
   ]
  },
  {
   "cell_type": "markdown",
   "metadata": {},
   "source": [
    "Let's zoom into updatedAt data > '01-01-2019'. We can see that most repos in this dataset have recently been updated\n"
   ]
  },
  {
   "cell_type": "code",
   "execution_count": 898,
   "metadata": {},
   "outputs": [
    {
     "data": {
      "image/png": "[encoded data removed]",
      "text/plain": [
       "<Figure size 432x288 with 1 Axes>"
      ]
     },
     "metadata": {
      "needs_background": "light"
     },
     "output_type": "display_data"
    }
   ],
   "source": [
    "df_updatedAt[df_updatedAt.index > '01-01-2019'].plot();"
   ]
  },
  {
   "cell_type": "code",
   "execution_count": 899,
   "metadata": {},
   "outputs": [
    {
     "data": {
      "text/plain": [
       "updatedAt\n",
       "2019-01-06 00:00:00+00:00     397\n",
       "2019-01-13 00:00:00+00:00     505\n",
       "2019-01-20 00:00:00+00:00     587\n",
       "2019-01-27 00:00:00+00:00     603\n",
       "2019-02-03 00:00:00+00:00     504\n",
       "2019-02-10 00:00:00+00:00     527\n",
       "2019-02-17 00:00:00+00:00     563\n",
       "2019-02-24 00:00:00+00:00     601\n",
       "2019-03-03 00:00:00+00:00     546\n",
       "2019-03-10 00:00:00+00:00     633\n",
       "2019-03-17 00:00:00+00:00     683\n",
       "2019-03-24 00:00:00+00:00     580\n",
       "2019-03-31 00:00:00+00:00     601\n",
       "2019-04-07 00:00:00+00:00     678\n",
       "2019-04-14 00:00:00+00:00     753\n",
       "2019-04-21 00:00:00+00:00    1165\n",
       "2019-04-28 00:00:00+00:00     942\n",
       "2019-05-05 00:00:00+00:00     945\n",
       "2019-05-12 00:00:00+00:00     967\n",
       "2019-05-19 00:00:00+00:00     941\n",
       "2019-05-26 00:00:00+00:00    1106\n",
       "2019-06-02 00:00:00+00:00    1534\n",
       "2019-06-09 00:00:00+00:00    1695\n",
       "2019-06-16 00:00:00+00:00    2311\n",
       "2019-06-23 00:00:00+00:00    2763\n",
       "2019-06-30 00:00:00+00:00    6686\n",
       "Freq: W-SUN, Name: repo_name, dtype: int64"
      ]
     },
     "execution_count": 899,
     "metadata": {},
     "output_type": "execute_result"
    }
   ],
   "source": [
    "df_updatedAt[df_updatedAt.index > '01-01-2019']"
   ]
  },
  {
   "cell_type": "markdown",
   "metadata": {},
   "source": [
    "To reflect the current user behavior, let's analyze only repos that have been updated in the past one year (From June 2018 - now which is late June 29th 2019)"
   ]
  },
  {
   "cell_type": "markdown",
   "metadata": {},
   "source": [
    "Now, let's take a look at how many of those repos use each of the interested JS Testing Framework"
   ]
  },
  {
   "cell_type": "code",
   "execution_count": 900,
   "metadata": {},
   "outputs": [],
   "source": [
    "df_combined_final = df_combined_clean[(df_combined_clean['updatedAt'] >= '06-01-2018')]\n"
   ]
  },
  {
   "cell_type": "markdown",
   "metadata": {},
   "source": [
    "This leaves us with around 40k projects (or around 20%) of original data we can work with which is a reasonable amount of data to be analyzed"
   ]
  },
  {
   "cell_type": "code",
   "execution_count": 901,
   "metadata": {},
   "outputs": [
    {
     "data": {
      "text/plain": [
       "(40560, 19)"
      ]
     },
     "execution_count": 901,
     "metadata": {},
     "output_type": "execute_result"
    }
   ],
   "source": [
    "df_combined_final.shape"
   ]
  },
  {
   "cell_type": "code",
   "execution_count": 902,
   "metadata": {},
   "outputs": [
    {
     "data": {
      "text/plain": [
       "0.20009373227103427"
      ]
     },
     "execution_count": 902,
     "metadata": {},
     "output_type": "execute_result"
    }
   ],
   "source": [
    "df_combined_final.shape[0] / df_combined.shape[0]"
   ]
  },
  {
   "cell_type": "code",
   "execution_count": 903,
   "metadata": {},
   "outputs": [
    {
     "data": {
      "text/html": [
       "<div>\n",
       "<style scoped>\n",
       "    .dataframe tbody tr th:only-of-type {\n",
       "        vertical-align: middle;\n",
       "    }\n",
       "\n",
       "    .dataframe tbody tr th {\n",
       "        vertical-align: top;\n",
       "    }\n",
       "\n",
       "    .dataframe thead th {\n",
       "        text-align: right;\n",
       "    }\n",
       "</style>\n",
       "<table border=\"1\" class=\"dataframe\">\n",
       "  <thead>\n",
       "    <tr style=\"text-align: right;\">\n",
       "      <th></th>\n",
       "      <th>stargazers_count</th>\n",
       "      <th>releases_count</th>\n",
       "      <th>issues_count</th>\n",
       "      <th>forks_count</th>\n",
       "    </tr>\n",
       "  </thead>\n",
       "  <tbody>\n",
       "    <tr>\n",
       "      <th>count</th>\n",
       "      <td>40560.000000</td>\n",
       "      <td>40560.000000</td>\n",
       "      <td>40560.000000</td>\n",
       "      <td>40560.000000</td>\n",
       "    </tr>\n",
       "    <tr>\n",
       "      <th>mean</th>\n",
       "      <td>266.787081</td>\n",
       "      <td>4.671893</td>\n",
       "      <td>50.876011</td>\n",
       "      <td>47.255079</td>\n",
       "    </tr>\n",
       "    <tr>\n",
       "      <th>std</th>\n",
       "      <td>2063.828846</td>\n",
       "      <td>27.351635</td>\n",
       "      <td>347.733028</td>\n",
       "      <td>512.702296</td>\n",
       "    </tr>\n",
       "    <tr>\n",
       "      <th>min</th>\n",
       "      <td>0.000000</td>\n",
       "      <td>0.000000</td>\n",
       "      <td>0.000000</td>\n",
       "      <td>0.000000</td>\n",
       "    </tr>\n",
       "    <tr>\n",
       "      <th>25%</th>\n",
       "      <td>2.000000</td>\n",
       "      <td>0.000000</td>\n",
       "      <td>0.000000</td>\n",
       "      <td>0.000000</td>\n",
       "    </tr>\n",
       "    <tr>\n",
       "      <th>50%</th>\n",
       "      <td>10.000000</td>\n",
       "      <td>0.000000</td>\n",
       "      <td>3.000000</td>\n",
       "      <td>3.000000</td>\n",
       "    </tr>\n",
       "    <tr>\n",
       "      <th>75%</th>\n",
       "      <td>50.000000</td>\n",
       "      <td>2.000000</td>\n",
       "      <td>18.000000</td>\n",
       "      <td>13.000000</td>\n",
       "    </tr>\n",
       "    <tr>\n",
       "      <th>max</th>\n",
       "      <td>142451.000000</td>\n",
       "      <td>3467.000000</td>\n",
       "      <td>18589.000000</td>\n",
       "      <td>65869.000000</td>\n",
       "    </tr>\n",
       "  </tbody>\n",
       "</table>\n",
       "</div>"
      ],
      "text/plain": [
       "       stargazers_count  releases_count  issues_count   forks_count\n",
       "count      40560.000000    40560.000000  40560.000000  40560.000000\n",
       "mean         266.787081        4.671893     50.876011     47.255079\n",
       "std         2063.828846       27.351635    347.733028    512.702296\n",
       "min            0.000000        0.000000      0.000000      0.000000\n",
       "25%            2.000000        0.000000      0.000000      0.000000\n",
       "50%           10.000000        0.000000      3.000000      3.000000\n",
       "75%           50.000000        2.000000     18.000000     13.000000\n",
       "max       142451.000000     3467.000000  18589.000000  65869.000000"
      ]
     },
     "execution_count": 903,
     "metadata": {},
     "output_type": "execute_result"
    }
   ],
   "source": [
    "df_combined_final.describe()"
   ]
  },
  {
   "cell_type": "markdown",
   "metadata": {},
   "source": [
    "Let's also look at a distribution of each JS Testing Framework of this dataset"
   ]
  },
  {
   "cell_type": "code",
   "execution_count": 904,
   "metadata": {},
   "outputs": [],
   "source": [
    "cols_testing_fw = [\n",
    "    'qunit',\n",
    "    'mocha',\n",
    "    'jest',\n",
    "    'jasmine',\n",
    "    'funcunit',        \n",
    "    'puppeteer',\n",
    "    'cypress',\n",
    "    'chai',\n",
    "    'sinon'\n",
    "]\n",
    "\n",
    "df_num_fw = df_combined_final[cols_testing_fw].sum().sort_values(ascending=False)"
   ]
  },
  {
   "cell_type": "code",
   "execution_count": 905,
   "metadata": {},
   "outputs": [
    {
     "data": {
      "text/plain": [
       "mocha        26234\n",
       "chai         14383\n",
       "sinon         7252\n",
       "jasmine       6601\n",
       "jest          5253\n",
       "qunit         2591\n",
       "puppeteer      427\n",
       "cypress        160\n",
       "funcunit         5\n",
       "dtype: int64"
      ]
     },
     "execution_count": 905,
     "metadata": {},
     "output_type": "execute_result"
    }
   ],
   "source": [
    "df_num_fw"
   ]
  },
  {
   "cell_type": "code",
   "execution_count": 906,
   "metadata": {},
   "outputs": [
    {
     "data": {
      "image/png": "[encoded data removed]",
      "text/plain": [
       "<Figure size 432x288 with 1 Axes>"
      ]
     },
     "metadata": {
      "needs_background": "light"
     },
     "output_type": "display_data"
    }
   ],
   "source": [
    "df_num_fw.plot.barh();\n",
    "plt.gca().invert_yaxis()\n",
    "plt.title('Number of repos that specify JS Testing Framework in package.json');"
   ]
  },
  {
   "cell_type": "markdown",
   "metadata": {},
   "source": [
    "Let's find a ratio of a number of repositories that use each JS Testing Framework/Lib. \n",
    "\n",
    "Note that it is possible that the same repo list multiple frameworks in package.json, e.g. It is common to see mocha+chai in the same package.json. sinon is a mocking framework that can use with any testing framework, etc. "
   ]
  },
  {
   "cell_type": "code",
   "execution_count": 907,
   "metadata": {},
   "outputs": [
    {
     "data": {
      "text/plain": [
       "mocha        64.679487\n",
       "chai         35.461045\n",
       "sinon        17.879684\n",
       "jasmine      16.274655\n",
       "jest         12.951183\n",
       "qunit         6.388067\n",
       "puppeteer     1.052761\n",
       "cypress       0.394477\n",
       "funcunit      0.012327\n",
       "dtype: float64"
      ]
     },
     "execution_count": 907,
     "metadata": {},
     "output_type": "execute_result"
    }
   ],
   "source": [
    "(df_num_fw / df_combined_final.shape[0]) * 100"
   ]
  },
  {
   "cell_type": "markdown",
   "metadata": {},
   "source": [
    "Before we move on with the analysis, let's save this final dataset so that we don't need to repeat the steps above again"
   ]
  },
  {
   "cell_type": "code",
   "execution_count": 908,
   "metadata": {},
   "outputs": [],
   "source": [
    "df_combined_final.to_csv('data/github_package_deps_June_2018_to_June_2019.csv', index=False)"
   ]
  },
  {
   "cell_type": "markdown",
   "metadata": {},
   "source": [
    "## What are the top github repos that uses each framework and what are common packages installed with it?"
   ]
  },
  {
   "cell_type": "markdown",
   "metadata": {},
   "source": [
    "Let's find out how many repos that use one of the following frameworks: qunit, mocha, jest, jasmine"
   ]
  },
  {
   "cell_type": "code",
   "execution_count": 909,
   "metadata": {},
   "outputs": [
    {
     "data": {
      "text/plain": [
       "39186"
      ]
     },
     "execution_count": 909,
     "metadata": {},
     "output_type": "execute_result"
    }
   ],
   "source": [
    "sum(df_combined_final['qunit'] | df_combined_final['mocha'] | df_combined_final['jest'] | df_combined_final['jasmine'])"
   ]
  },
  {
   "cell_type": "markdown",
   "metadata": {},
   "source": [
    "There are about 12400 repos that use one of the interested JS Testing Frameworks"
   ]
  },
  {
   "cell_type": "markdown",
   "metadata": {},
   "source": [
    "Create a dataframe containing repos that use each framework"
   ]
  },
  {
   "cell_type": "code",
   "execution_count": 910,
   "metadata": {},
   "outputs": [],
   "source": [
    "col_subset = ['repo_name',\n",
    " 'createdAt',\n",
    " 'updatedAt',\n",
    " 'stargazers_count',\n",
    " 'releases_count',\n",
    " 'issues_count',\n",
    " 'forks_count',\n",
    " 'primaryLanguage',\n",
    " 'languages',\n",
    " 'package_dep']\n",
    "\n",
    "df_qunit = df_combined_final[df_combined_final['qunit']][col_subset]\n",
    "df_mocha = df_combined_final[df_combined_final['mocha']][col_subset]\n",
    "df_jest = df_combined_final[df_combined_final['jest']][col_subset]\n",
    "df_jasmine = df_combined_final[df_combined_final['jasmine']][col_subset]\n",
    "\n",
    "dict_df = OrderedDict()\n",
    "dict_df['qunit'] = df_qunit\n",
    "dict_df['mocha'] = df_mocha\n",
    "dict_df['jest'] = df_jest\n",
    "dict_df['jasmine'] = df_jasmine"
   ]
  },
  {
   "cell_type": "markdown",
   "metadata": {},
   "source": [
    "Let's create a function that we will use to print out a summary of each framework"
   ]
  },
  {
   "cell_type": "code",
   "execution_count": 911,
   "metadata": {},
   "outputs": [],
   "source": [
    "def print_framework_summary(dict_df, fw_name):\n",
    "    print('****** Framework: {} ******'.format(fw_name))\n",
    "    df = dict_df[fw_name]\n",
    "    \n",
    "    print('Number of repos: {}\\n'.format(df.shape[0]))\n",
    "    \n",
    "    # Find the most common package dependencies\n",
    "    # https://stackoverflow.com/questions/41007797/pandas-find-most-frequent-values-in-columns-of-lists\n",
    "    sum_deps = sum(df['package_dep'], [])\n",
    "    c_deps = Counter(sum_deps)\n",
    "    \n",
    "    # --- Top repos (in terms of stargazers_count) that use this framework\n",
    "    print('Top repos that uses \"{}\":\\n'.format(fw_name))\n",
    "    \n",
    "    df_temp_top_stargazers = df.sort_values(by=['stargazers_count'], ascending=False).iloc[0:20,:][['repo_name', 'stargazers_count', 'createdAt']].reset_index(drop=True)\n",
    "    df_temp_top_stargazers['Age (years)'] = round(df_temp_top_stargazers['createdAt'].apply(lambda x:  (pd.Timestamp.utcnow() - x)).dt.days / 365, 1)\n",
    "    df_temp_top_stargazers = df_temp_top_stargazers.drop(columns=['createdAt'])\n",
    "    print(df_temp_top_stargazers)\n",
    "\n",
    "    \n",
    "    df_plot = df_temp_top_stargazers[['repo_name', 'stargazers_count']].reset_index(drop=True)    \n",
    "    \n",
    "    df_plot = df_plot.set_index('repo_name')\n",
    "    df_plot.plot.barh()\n",
    "    plt.gca().invert_yaxis()\n",
    "    plt.title('Top repos that uses \"{}\"'.format(fw_name));\n",
    "    print('\\n')\n",
    "    \n",
    "    # --- Top common packages\n",
    "    print('Top common packages:\\n')\n",
    "    \n",
    "    top_deps =  c_deps.most_common(10)\n",
    "    for cur_top_dep in top_deps:\n",
    "        print('{}: {}'.format(cur_top_dep[0], cur_top_dep[1]))\n",
    "        \n",
    "    df_plot = pd.DataFrame(top_deps, columns=['package_name', 'count'])\n",
    "    df_plot = df_plot.set_index('package_name')\n",
    "    \n",
    "    df_plot.plot.barh()\n",
    "    plt.gca().invert_yaxis()\n",
    "    plt.title('Number of common packages that listed with \"{}\"'.format(fw_name));\n",
    "    \n",
    "    return df, c_deps\n",
    "    "
   ]
  },
  {
   "cell_type": "markdown",
   "metadata": {},
   "source": [
    "### QUnit"
   ]
  },
  {
   "cell_type": "code",
   "execution_count": 912,
   "metadata": {},
   "outputs": [
    {
     "name": "stdout",
     "output_type": "stream",
     "text": [
      "****** Framework: qunit ******\n",
      "Number of repos: 2591\n",
      "\n",
      "Top repos that uses \"qunit\":\n",
      "\n",
      "                              repo_name  stargazers_count  Age (years)\n",
      "0                        twbs/bootstrap            134291          7.9\n",
      "1                       mrdoob/three.js             52682          9.3\n",
      "2                         jquery/jquery             51826         10.2\n",
      "3                     hakimel/reveal.js             47067          8.1\n",
      "4                         moment/moment             41620          8.3\n",
      "5                    impress/impress.js             34879          7.5\n",
      "6                    jashkenas/backbone             27500          8.8\n",
      "7                  jashkenas/underscore             24619          9.7\n",
      "8                       select2/select2             23704          7.3\n",
      "9                      emberjs/ember.js             21067          8.1\n",
      "10                   hammerjs/hammer.js             20195          7.3\n",
      "11                    Prinzhorn/skrollr             18258          7.3\n",
      "12               julianshapiro/velocity             16076          5.2\n",
      "13                  js-cookie/js-cookie             13127          4.3\n",
      "14     uxsolutions/bootstrap-datepicker             11627          7.3\n",
      "15                    scottjehl/Respond             11510          8.4\n",
      "16                    aFarkas/lazysizes             11474          4.7\n",
      "17            DmitryBaranovskiy/raphael             10262         10.8\n",
      "18                scottjehl/picturefill              9922          7.4\n",
      "19  jquery-validation/jquery-validation              9460          9.2\n",
      "\n",
      "\n",
      "Top common packages:\n",
      "\n",
      "grunt: 1193\n",
      "ember-cli-htmlbars: 1116\n",
      "ember-cli: 1107\n",
      "ember-cli-inject-live-reload: 1086\n",
      "ember-cli-dependency-checker: 1080\n",
      "ember-cli-babel: 1059\n",
      "broccoli-asset-rev: 1059\n",
      "grunt-contrib-qunit: 1058\n",
      "ember-export-application-global: 1042\n",
      "ember-cli-uglify: 1039\n"
     ]
    },
    {
     "data": {
      "image/png": "[encoded data removed]",
      "text/plain": [
       "<Figure size 432x288 with 1 Axes>"
      ]
     },
     "metadata": {
      "needs_background": "light"
     },
     "output_type": "display_data"
    },
    {
     "data": {
      "image/png": "[encoded data removed]",
      "text/plain": [
       "<Figure size 432x288 with 1 Axes>"
      ]
     },
     "metadata": {
      "needs_background": "light"
     },
     "output_type": "display_data"
    }
   ],
   "source": [
    "_, dep_qunit = print_framework_summary(dict_df, 'qunit');"
   ]
  },
  {
   "cell_type": "code",
   "execution_count": 913,
   "metadata": {},
   "outputs": [
    {
     "data": {
      "text/plain": [
       "[('grunt', 1193),\n",
       " ('ember-cli-htmlbars', 1116),\n",
       " ('ember-cli', 1107),\n",
       " ('ember-cli-inject-live-reload', 1086),\n",
       " ('ember-cli-dependency-checker', 1080),\n",
       " ('ember-cli-babel', 1059),\n",
       " ('broccoli-asset-rev', 1059),\n",
       " ('grunt-contrib-qunit', 1058),\n",
       " ('ember-export-application-global', 1042),\n",
       " ('ember-cli-uglify', 1039),\n",
       " ('grunt-contrib-uglify', 1014),\n",
       " ('grunt-contrib-jshint', 1001),\n",
       " ('ember-cli-htmlbars-inline-precompile', 985),\n",
       " ('grunt-contrib-watch', 902),\n",
       " ('ember-disable-prototype-extensions', 898),\n",
       " ('ember-resolver', 881),\n",
       " ('ember-cli-sri', 878),\n",
       " ('loader.js', 869),\n",
       " ('ember-load-initializers', 860),\n",
       " ('ember-cli-qunit', 844),\n",
       " ('ember-source', 711),\n",
       " ('grunt-contrib-connect', 668),\n",
       " ('ember-cli-eslint', 665),\n",
       " ('ember-try', 653),\n",
       " ('grunt-contrib-cssmin', 580),\n",
       " ('express', 530),\n",
       " ('ember-cli-app-version', 526),\n",
       " ('ember-ajax', 523),\n",
       " ('eslint-plugin-ember', 509),\n",
       " ('eslint-plugin-node', 487)]"
      ]
     },
     "execution_count": 913,
     "metadata": {},
     "output_type": "execute_result"
    }
   ],
   "source": [
    "dep_qunit.most_common(30)"
   ]
  },
  {
   "cell_type": "markdown",
   "metadata": {},
   "source": [
    "### Mocha"
   ]
  },
  {
   "cell_type": "code",
   "execution_count": 914,
   "metadata": {},
   "outputs": [
    {
     "name": "stdout",
     "output_type": "stream",
     "text": [
      "****** Framework: mocha ******\n",
      "Number of repos: 26234\n",
      "\n",
      "Top repos that uses \"mocha\":\n",
      "\n",
      "                           repo_name  stargazers_count  Age (years)\n",
      "0                          vuejs/vue            142451          5.9\n",
      "1                  electron/electron             74662          6.2\n",
      "2                        axios/axios             61335          4.9\n",
      "3                          atom/atom             49149          7.4\n",
      "4                 socketio/socket.io             46765          9.3\n",
      "5                  expressjs/express             44454         10.0\n",
      "6             h5bp/html5-boilerplate             43006          9.4\n",
      "7                    ElemeFE/element             38822          2.8\n",
      "8   thedaviddias/Front-End-Checklist             34831          1.7\n",
      "9        google/material-design-lite             31303          4.5\n",
      "10                       gulpjs/gulp             31287          6.0\n",
      "11                    TryGhost/Ghost             30237          6.2\n",
      "12             zurb/foundation-sites             28176          7.7\n",
      "13                       hexojs/hexo             27008          6.8\n",
      "14           sahat/hackathon-starter             26894          5.6\n",
      "15                     facebook/jest             26189          5.6\n",
      "16                      caolan/async             25748          9.1\n",
      "17            RocketChat/Rocket.Chat             23205          4.1\n",
      "18                      github/fetch             22254          4.7\n",
      "19                 gitlabhq/gitlabhq             21866          7.7\n",
      "\n",
      "\n",
      "Top common packages:\n",
      "\n",
      "mocha: 23991\n",
      "chai: 13220\n",
      "eslint: 7429\n",
      "sinon: 5823\n",
      "lodash: 5116\n",
      "istanbul: 4269\n",
      "express: 4180\n",
      "babel-core: 3841\n",
      "webpack: 3836\n",
      "babel-preset-es2015: 3609\n"
     ]
    },
    {
     "data": {
      "image/png": "[encoded data removed]",
      "text/plain": [
       "<Figure size 432x288 with 1 Axes>"
      ]
     },
     "metadata": {
      "needs_background": "light"
     },
     "output_type": "display_data"
    },
    {
     "data": {
      "image/png": "[encoded data removed]",
      "text/plain": [
       "<Figure size 432x288 with 1 Axes>"
      ]
     },
     "metadata": {
      "needs_background": "light"
     },
     "output_type": "display_data"
    }
   ],
   "source": [
    "_, dep_mocha = print_framework_summary(dict_df, 'mocha');"
   ]
  },
  {
   "cell_type": "code",
   "execution_count": 915,
   "metadata": {},
   "outputs": [
    {
     "data": {
      "text/plain": [
       "[('mocha', 23991),\n",
       " ('chai', 13220),\n",
       " ('eslint', 7429),\n",
       " ('sinon', 5823),\n",
       " ('lodash', 5116),\n",
       " ('istanbul', 4269),\n",
       " ('express', 4180),\n",
       " ('babel-core', 3841),\n",
       " ('webpack', 3836),\n",
       " ('babel-preset-es2015', 3609),\n",
       " ('gulp', 3559),\n",
       " ('should', 3332),\n",
       " ('coveralls', 3219),\n",
       " ('babel-eslint', 3140),\n",
       " ('babel-loader', 3043),\n",
       " ('karma', 3034),\n",
       " ('request', 2844),\n",
       " ('grunt', 2701),\n",
       " ('babel-cli', 2604),\n",
       " ('rimraf', 2575),\n",
       " ('eslint-plugin-import', 2451),\n",
       " ('karma-mocha', 2392),\n",
       " ('async', 2377),\n",
       " ('nyc', 2361),\n",
       " ('typescript', 2343),\n",
       " ('react', 2244),\n",
       " ('body-parser', 2216),\n",
       " ('sinon-chai', 2110),\n",
       " ('eslint-plugin-react', 2048),\n",
       " ('karma-chrome-launcher', 2009)]"
      ]
     },
     "execution_count": 915,
     "metadata": {},
     "output_type": "execute_result"
    }
   ],
   "source": [
    "dep_mocha.most_common(30)"
   ]
  },
  {
   "cell_type": "markdown",
   "metadata": {},
   "source": [
    "### Jest"
   ]
  },
  {
   "cell_type": "code",
   "execution_count": 916,
   "metadata": {},
   "outputs": [
    {
     "name": "stdout",
     "output_type": "stream",
     "text": [
      "****** Framework: jest ******\n",
      "Number of repos: 5253\n",
      "\n",
      "Top repos that uses \"jest\":\n",
      "\n",
      "                              repo_name  stargazers_count  Age (years)\n",
      "0                        facebook/react            131762          6.1\n",
      "1                       webpack/webpack             49656          7.3\n",
      "2                 ant-design/ant-design             48179          4.2\n",
      "3                  typicode/json-server             41014          5.6\n",
      "4                          zeit/next.js             38452          2.7\n",
      "5          PanJiaChen/vue-element-admin             36011          2.2\n",
      "6                       gatsbyjs/gatsby             35940          4.1\n",
      "7                           babel/babel             33625          4.8\n",
      "8                     prettier/prettier             32511          2.6\n",
      "9                             koajs/koa             26476          5.9\n",
      "10                        facebook/jest             26189          5.6\n",
      "11  styled-components/styled-components             24541          2.9\n",
      "12                         knsv/mermaid             23939          4.7\n",
      "13  react-boilerplate/react-boilerplate             22822          4.4\n",
      "14                    gitlabhq/gitlabhq             21866          7.7\n",
      "15                     getsentry/sentry             21305          8.8\n",
      "16                      postcss/postcss             21077          5.8\n",
      "17                      dawnlabs/carbon             20286          2.0\n",
      "18                     transloadit/uppy             20100          3.6\n",
      "19                      t4t5/sweetalert             20057          4.8\n",
      "\n",
      "\n",
      "Top common packages:\n",
      "\n",
      "jest: 4454\n",
      "eslint: 3020\n",
      "react: 2474\n",
      "babel-jest: 2405\n",
      "babel-core: 2042\n",
      "react-dom: 2041\n",
      "babel-eslint: 1992\n",
      "webpack: 1976\n",
      "eslint-plugin-import: 1859\n",
      "eslint-plugin-react: 1753\n"
     ]
    },
    {
     "data": {
      "image/png": "[encoded data removed]",
      "text/plain": [
       "<Figure size 432x288 with 1 Axes>"
      ]
     },
     "metadata": {
      "needs_background": "light"
     },
     "output_type": "display_data"
    },
    {
     "data": {
      "image/png": "[encoded data removed]",
      "text/plain": [
       "<Figure size 432x288 with 1 Axes>"
      ]
     },
     "metadata": {
      "needs_background": "light"
     },
     "output_type": "display_data"
    }
   ],
   "source": [
    "_, dep_jest = print_framework_summary(dict_df, 'jest');"
   ]
  },
  {
   "cell_type": "code",
   "execution_count": 917,
   "metadata": {},
   "outputs": [
    {
     "data": {
      "text/plain": [
       "[('jest', 4454),\n",
       " ('eslint', 3020),\n",
       " ('react', 2474),\n",
       " ('babel-jest', 2405),\n",
       " ('babel-core', 2042),\n",
       " ('react-dom', 2041),\n",
       " ('babel-eslint', 1992),\n",
       " ('webpack', 1976),\n",
       " ('eslint-plugin-import', 1859),\n",
       " ('eslint-plugin-react', 1753),\n",
       " ('babel-loader', 1724),\n",
       " ('prettier', 1330),\n",
       " ('react-test-renderer', 1293),\n",
       " ('css-loader', 1261),\n",
       " ('enzyme', 1151),\n",
       " ('rimraf', 1143),\n",
       " ('prop-types', 1131),\n",
       " ('typescript', 1127),\n",
       " ('style-loader', 1126),\n",
       " ('babel-cli', 1125),\n",
       " ('babel-preset-react', 1117),\n",
       " ('eslint-plugin-jsx-a11y', 1088),\n",
       " ('babel-preset-es2015', 1056),\n",
       " ('webpack-dev-server', 1039),\n",
       " ('lodash', 1023),\n",
       " ('@types/jest', 981),\n",
       " ('redux', 964),\n",
       " ('file-loader', 955),\n",
       " ('husky', 929),\n",
       " ('@babel/core', 913)]"
      ]
     },
     "execution_count": 917,
     "metadata": {},
     "output_type": "execute_result"
    }
   ],
   "source": [
    "dep_jest.most_common(30)"
   ]
  },
  {
   "cell_type": "markdown",
   "metadata": {},
   "source": [
    "### Jasmine"
   ]
  },
  {
   "cell_type": "code",
   "execution_count": 918,
   "metadata": {},
   "outputs": [
    {
     "name": "stdout",
     "output_type": "stream",
     "text": [
      "****** Framework: jasmine ******\n",
      "Number of repos: 6601\n",
      "\n",
      "Top repos that uses \"jasmine\":\n",
      "\n",
      "                repo_name  stargazers_count  Age (years)\n",
      "0               vuejs/vue            142451          5.9\n",
      "1          facebook/react            131762          6.1\n",
      "2             axios/axios             61335          4.9\n",
      "3      angular/angular.js             59570          9.5\n",
      "4         angular/angular             49308          4.8\n",
      "5               atom/atom             49149          7.4\n",
      "6        chartjs/Chart.js             44132          6.3\n",
      "7     Dogfalo/materialize             36020          4.8\n",
      "8          adobe/brackets             29889          7.6\n",
      "9          mozilla/pdf.js             27104          8.2\n",
      "10       nylas/nylas-mail             24388          4.7\n",
      "11          quilljs/quill             23195          6.9\n",
      "12      gitlabhq/gitlabhq             21866          7.7\n",
      "13    angular/angular-cli             21846          4.1\n",
      "14             vuejs/vuex             20813          4.0\n",
      "15     angular/components             18289          3.5\n",
      "16    Popmotion/popmotion             16953          4.9\n",
      "17  chenglou/react-motion             16865          4.1\n",
      "18            MrRio/jsPDF             16842          9.6\n",
      "19       angular/material             16473          5.0\n",
      "\n",
      "\n",
      "Top common packages:\n",
      "\n",
      "karma-jasmine: 4469\n",
      "karma: 4415\n",
      "karma-chrome-launcher: 3423\n",
      "jasmine-core: 3352\n",
      "karma-phantomjs-launcher: 2113\n",
      "typescript: 1927\n",
      "grunt: 1758\n",
      "@types/jasmine: 1548\n",
      "tslint: 1541\n",
      "gulp: 1526\n"
     ]
    },
    {
     "data": {
      "image/png": "[encoded data removed]",
      "text/plain": [
       "<Figure size 432x288 with 1 Axes>"
      ]
     },
     "metadata": {
      "needs_background": "light"
     },
     "output_type": "display_data"
    },
    {
     "data": {
      "image/png": "[encoded data removed]",
      "text/plain": [
       "<Figure size 432x288 with 1 Axes>"
      ]
     },
     "metadata": {
      "needs_background": "light"
     },
     "output_type": "display_data"
    }
   ],
   "source": [
    "_, dep_jasmine = print_framework_summary(dict_df, 'jasmine');"
   ]
  },
  {
   "cell_type": "code",
   "execution_count": 919,
   "metadata": {},
   "outputs": [
    {
     "data": {
      "text/plain": [
       "[('karma-jasmine', 4469),\n",
       " ('karma', 4415),\n",
       " ('karma-chrome-launcher', 3423),\n",
       " ('jasmine-core', 3352),\n",
       " ('karma-phantomjs-launcher', 2113),\n",
       " ('typescript', 1927),\n",
       " ('grunt', 1758),\n",
       " ('@types/jasmine', 1548),\n",
       " ('tslint', 1541),\n",
       " ('gulp', 1526),\n",
       " ('karma-coverage', 1499),\n",
       " ('protractor', 1412),\n",
       " ('@types/node', 1370),\n",
       " ('rxjs', 1354),\n",
       " ('karma-firefox-launcher', 1348),\n",
       " ('zone.js', 1318),\n",
       " ('@angular/core', 1278),\n",
       " ('@angular/compiler', 1274),\n",
       " ('grunt-contrib-uglify', 1269),\n",
       " ('@angular/common', 1263),\n",
       " ('@angular/platform-browser', 1261),\n",
       " ('@angular/platform-browser-dynamic', 1256),\n",
       " ('jasmine', 1242),\n",
       " ('grunt-contrib-watch', 1237),\n",
       " ('core-js', 1213),\n",
       " ('grunt-contrib-jshint', 1195),\n",
       " ('webpack', 1144),\n",
       " ('@angular/compiler-cli', 1106),\n",
       " ('@angular/forms', 1091),\n",
       " ('lodash', 1086)]"
      ]
     },
     "execution_count": 919,
     "metadata": {},
     "output_type": "execute_result"
    }
   ],
   "source": [
    "dep_jasmine.most_common(30)"
   ]
  },
  {
   "cell_type": "code",
   "execution_count": null,
   "metadata": {},
   "outputs": [],
   "source": []
  }
 ],
 "metadata": {
  "kernelspec": {
   "display_name": "Python 3",
   "language": "python",
   "name": "python3"
  },
  "language_info": {
   "codemirror_mode": {
    "name": "ipython",
    "version": 3
   },
   "file_extension": ".py",
   "mimetype": "text/x-python",
   "name": "python",
   "nbconvert_exporter": "python",
   "pygments_lexer": "ipython3",
   "version": "3.6.8"
  }
 },
 "nbformat": 4,
 "nbformat_minor": 2
}
